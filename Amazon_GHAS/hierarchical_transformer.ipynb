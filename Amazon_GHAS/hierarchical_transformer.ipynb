{
 "cells": [
  {
   "cell_type": "markdown",
   "metadata": {},
   "source": [
    "# Preparing the Environment"
   ]
  },
  {
   "cell_type": "code",
   "execution_count": 2,
   "metadata": {},
   "outputs": [],
   "source": [
    "%%capture\n",
    "!pip install transformers\n",
    "!pip install nltk"
   ]
  },
  {
   "cell_type": "code",
   "execution_count": 3,
   "metadata": {
    "tags": []
   },
   "outputs": [
    {
     "name": "stderr",
     "output_type": "stream",
     "text": [
      "/opt/conda/lib/python3.9/site-packages/tqdm/auto.py:22: TqdmWarning: IProgress not found. Please update jupyter and ipywidgets. See https://ipywidgets.readthedocs.io/en/stable/user_install.html\n",
      "  from .autonotebook import tqdm as notebook_tqdm\n",
      "[nltk_data] Downloading package punkt to /root/nltk_data...\n",
      "[nltk_data]   Package punkt is already up-to-date!\n"
     ]
    },
    {
     "data": {
      "text/plain": [
       "True"
      ]
     },
     "execution_count": 3,
     "metadata": {},
     "output_type": "execute_result"
    }
   ],
   "source": [
    "import math\n",
    "import os\n",
    "import torch\n",
    "import numpy as np\n",
    "import pandas as pd\n",
    "from sklearn.model_selection import train_test_split\n",
    "from sklearn.metrics import mean_absolute_error\n",
    "from sklearn.metrics import mean_squared_error\n",
    "from sklearn.metrics import r2_score\n",
    "from scipy.stats import pearsonr\n",
    "from transformers import AutoTokenizer, AutoModelForSequenceClassification, TrainingArguments, Trainer\n",
    "from torch.utils.data import Dataset\n",
    "import torch\n",
    "import random\n",
    "import nltk\n",
    "\n",
    "nltk.download('punkt')"
   ]
  },
  {
   "cell_type": "code",
   "execution_count": 4,
   "metadata": {
    "tags": []
   },
   "outputs": [],
   "source": [
    "pd.set_option('display.max_columns', None)\n",
    "pd.set_option('display.max_rows', None)"
   ]
  },
  {
   "cell_type": "code",
   "execution_count": 5,
   "metadata": {
    "tags": []
   },
   "outputs": [],
   "source": [
    "random_seed = 2023\n",
    "torch.manual_seed(random_seed)\n",
    "random.seed(random_seed)\n",
    "np.random.seed(random_seed)"
   ]
  },
  {
   "cell_type": "markdown",
   "metadata": {},
   "source": [
    "# Preprocessing the Datasets"
   ]
  },
  {
   "cell_type": "code",
   "execution_count": 6,
   "metadata": {
    "tags": []
   },
   "outputs": [],
   "source": [
    "train_df = pd.read_csv('input/train_pub.csv')\n",
    "dev_df = pd.read_csv('input/dev_pub.csv')\n",
    "test_df = pd.read_csv('input/test_pub.csv')"
   ]
  },
  {
   "cell_type": "code",
   "execution_count": 7,
   "metadata": {},
   "outputs": [
    {
     "data": {
      "text/html": [
       "<div>\n",
       "<style scoped>\n",
       "    .dataframe tbody tr th:only-of-type {\n",
       "        vertical-align: middle;\n",
       "    }\n",
       "\n",
       "    .dataframe tbody tr th {\n",
       "        vertical-align: top;\n",
       "    }\n",
       "\n",
       "    .dataframe thead th {\n",
       "        text-align: right;\n",
       "    }\n",
       "</style>\n",
       "<table border=\"1\" class=\"dataframe\">\n",
       "  <thead>\n",
       "    <tr style=\"text-align: right;\">\n",
       "      <th></th>\n",
       "      <th>response_id</th>\n",
       "      <th>rating_chooses_appropriate_action</th>\n",
       "      <th>rating_commits_to_action</th>\n",
       "      <th>rating_gathers_information</th>\n",
       "      <th>rating_identifies_issues_opportunities</th>\n",
       "      <th>rating_interprets_information</th>\n",
       "      <th>rating_involves_others</th>\n",
       "      <th>rating_decision_making_final_score</th>\n",
       "      <th>text_exercise_4</th>\n",
       "      <th>text_exercise_5</th>\n",
       "      <th>text_exercise_6</th>\n",
       "      <th>text_exercise_7</th>\n",
       "      <th>text_exercise_8</th>\n",
       "      <th>text_exercise_9</th>\n",
       "      <th>text_exercise_10</th>\n",
       "      <th>text_exercise_11</th>\n",
       "      <th>text_exercise_12</th>\n",
       "      <th>text_exercise_13</th>\n",
       "      <th>text_exercise_14</th>\n",
       "      <th>text_exercise_15</th>\n",
       "      <th>text_exercise_16</th>\n",
       "      <th>text_exercise_17</th>\n",
       "      <th>text_exercise_18</th>\n",
       "      <th>text_exercise_19</th>\n",
       "      <th>text_exercise_final</th>\n",
       "    </tr>\n",
       "  </thead>\n",
       "  <tbody>\n",
       "    <tr>\n",
       "      <th>0</th>\n",
       "      <td>NlmLRJzhnNt</td>\n",
       "      <td>2.0</td>\n",
       "      <td>2</td>\n",
       "      <td>2</td>\n",
       "      <td>2.0</td>\n",
       "      <td>2</td>\n",
       "      <td>3.0</td>\n",
       "      <td>2</td>\n",
       "      <td>NaN</td>\n",
       "      <td>Hi Tracy, This sounds very ionteresting, prior...</td>\n",
       "      <td>NaN</td>\n",
       "      <td>NaN</td>\n",
       "      <td>Hi Taylor: That sounds like a great idea, go a...</td>\n",
       "      <td>Taylor/Kim: I sent you an email earlier regard...</td>\n",
       "      <td>Haley, I do not like to base a promotion based...</td>\n",
       "      <td>NaN</td>\n",
       "      <td>NaN</td>\n",
       "      <td>Kim/Taylor: At this point you are far more fam...</td>\n",
       "      <td>NaN</td>\n",
       "      <td>NaN</td>\n",
       "      <td>Taylor, POlease hold off on collecting hand wr...</td>\n",
       "      <td>NaN</td>\n",
       "      <td>Taylor, Please hold off on contact Tom Weedler...</td>\n",
       "      <td>Kim, Please meet with HR Liang and Tracy to fi...</td>\n",
       "      <td>See below for answers.Original Message----- Fr...</td>\n",
       "    </tr>\n",
       "    <tr>\n",
       "      <th>1</th>\n",
       "      <td>mQoZghwfMUT</td>\n",
       "      <td>4.0</td>\n",
       "      <td>3</td>\n",
       "      <td>4</td>\n",
       "      <td>3.0</td>\n",
       "      <td>4</td>\n",
       "      <td>2.0</td>\n",
       "      <td>6</td>\n",
       "      <td>NaN</td>\n",
       "      <td>Hi Tracy, I am happy to see we have a self mot...</td>\n",
       "      <td>NaN</td>\n",
       "      <td>NaN</td>\n",
       "      <td>Hi Talyor, No I do not think it is a good idea...</td>\n",
       "      <td>NaN</td>\n",
       "      <td>Hi Mr. Roth, I have chosen Blaine. His perform...</td>\n",
       "      <td>NaN</td>\n",
       "      <td>NaN</td>\n",
       "      <td>NaN</td>\n",
       "      <td>NaN</td>\n",
       "      <td>NaN</td>\n",
       "      <td>Hi Taylor, Stop your investigation immediately...</td>\n",
       "      <td>NaN</td>\n",
       "      <td>Hi Taylor, It is possible that everything is a...</td>\n",
       "      <td>Liang, Stop what you are doing. First of all, ...</td>\n",
       "      <td>Original Message----- From: Assessment Adminis...</td>\n",
       "    </tr>\n",
       "    <tr>\n",
       "      <th>2</th>\n",
       "      <td>FjIOCrTtDgF</td>\n",
       "      <td>2.0</td>\n",
       "      <td>2</td>\n",
       "      <td>2</td>\n",
       "      <td>2.0</td>\n",
       "      <td>2</td>\n",
       "      <td>2.0</td>\n",
       "      <td>2</td>\n",
       "      <td>NaN</td>\n",
       "      <td>NaN</td>\n",
       "      <td>J.J please can you work with her for two more ...</td>\n",
       "      <td>J.J We will look at them together Thank You Ja...</td>\n",
       "      <td>NaN</td>\n",
       "      <td>I will look into this matter. Thank You Jamie ...</td>\n",
       "      <td>NaN</td>\n",
       "      <td>Great, I think room BP07 AT 12:00pm to 1:00pm ...</td>\n",
       "      <td>Thank you I see something I can do.  Thank You...</td>\n",
       "      <td>NaN</td>\n",
       "      <td>Thank you for keeping me in the know. Keep up ...</td>\n",
       "      <td>NaN</td>\n",
       "      <td>NaN</td>\n",
       "      <td>Thank You I'll take care of it. Thank You Jami...</td>\n",
       "      <td>NaN</td>\n",
       "      <td>Wait , Let me go talk to J.J . before you do a...</td>\n",
       "      <td>No, Focus and Team work I need to talk with th...</td>\n",
       "    </tr>\n",
       "    <tr>\n",
       "      <th>3</th>\n",
       "      <td>CQGLdZnCHcZ</td>\n",
       "      <td>3.0</td>\n",
       "      <td>3</td>\n",
       "      <td>3</td>\n",
       "      <td>2.0</td>\n",
       "      <td>2</td>\n",
       "      <td>2.0</td>\n",
       "      <td>3</td>\n",
       "      <td>NaN</td>\n",
       "      <td>NaN</td>\n",
       "      <td>Hi Paxton Let me talk to Debby first, before w...</td>\n",
       "      <td>Hi Patton why don't we get these folks and giv...</td>\n",
       "      <td>NaN</td>\n",
       "      <td>Hi Norman we have to suspend Larry and harry o...</td>\n",
       "      <td>NaN</td>\n",
       "      <td>Hi Foster let have the meeting at 2:00 to 3:00...</td>\n",
       "      <td>Jennifer the infomation you sent me, it looks ...</td>\n",
       "      <td>NaN</td>\n",
       "      <td>, Hi Paxton we can get together on april 20 ar...</td>\n",
       "      <td>Hi Isaac let me see what kind of schadule I ha...</td>\n",
       "      <td>NaN</td>\n",
       "      <td>Hi Bern I think is better is we take both to l...</td>\n",
       "      <td>NaN</td>\n",
       "      <td>H Daisha you did the right thing thank you for...</td>\n",
       "      <td>NaN</td>\n",
       "    </tr>\n",
       "    <tr>\n",
       "      <th>4</th>\n",
       "      <td>LERqIHLgqYm</td>\n",
       "      <td>3.0</td>\n",
       "      <td>3</td>\n",
       "      <td>2</td>\n",
       "      <td>3.0</td>\n",
       "      <td>2</td>\n",
       "      <td>2.0</td>\n",
       "      <td>3</td>\n",
       "      <td>NaN</td>\n",
       "      <td>NaN</td>\n",
       "      <td>NaN</td>\n",
       "      <td>JJ HR along with myself and the Final Assembly...</td>\n",
       "      <td>NaN</td>\n",
       "      <td>Alex I appreciate the heads up on this. I will...</td>\n",
       "      <td>NaN</td>\n",
       "      <td>Shea Based on my recent calendar revisions and...</td>\n",
       "      <td>Jennifer Thank you for the March repair report...</td>\n",
       "      <td>NaN</td>\n",
       "      <td>JJ Thank you for all your efforts and the info...</td>\n",
       "      <td>Isaac By insatlling the software on the 15th, ...</td>\n",
       "      <td>NaN</td>\n",
       "      <td>NaN</td>\n",
       "      <td>NaN</td>\n",
       "      <td>Vic I suggest you approachHR before taking thi...</td>\n",
       "      <td>Original Message----- From: Assessment Adminis...</td>\n",
       "    </tr>\n",
       "  </tbody>\n",
       "</table>\n",
       "</div>"
      ],
      "text/plain": [
       "   response_id  rating_chooses_appropriate_action  rating_commits_to_action  \\\n",
       "0  NlmLRJzhnNt                                2.0                         2   \n",
       "1  mQoZghwfMUT                                4.0                         3   \n",
       "2  FjIOCrTtDgF                                2.0                         2   \n",
       "3  CQGLdZnCHcZ                                3.0                         3   \n",
       "4  LERqIHLgqYm                                3.0                         3   \n",
       "\n",
       "   rating_gathers_information  rating_identifies_issues_opportunities  \\\n",
       "0                           2                                     2.0   \n",
       "1                           4                                     3.0   \n",
       "2                           2                                     2.0   \n",
       "3                           3                                     2.0   \n",
       "4                           2                                     3.0   \n",
       "\n",
       "   rating_interprets_information  rating_involves_others  \\\n",
       "0                              2                     3.0   \n",
       "1                              4                     2.0   \n",
       "2                              2                     2.0   \n",
       "3                              2                     2.0   \n",
       "4                              2                     2.0   \n",
       "\n",
       "   rating_decision_making_final_score text_exercise_4  \\\n",
       "0                                   2             NaN   \n",
       "1                                   6             NaN   \n",
       "2                                   2             NaN   \n",
       "3                                   3             NaN   \n",
       "4                                   3             NaN   \n",
       "\n",
       "                                     text_exercise_5  \\\n",
       "0  Hi Tracy, This sounds very ionteresting, prior...   \n",
       "1  Hi Tracy, I am happy to see we have a self mot...   \n",
       "2                                                NaN   \n",
       "3                                                NaN   \n",
       "4                                                NaN   \n",
       "\n",
       "                                     text_exercise_6  \\\n",
       "0                                                NaN   \n",
       "1                                                NaN   \n",
       "2  J.J please can you work with her for two more ...   \n",
       "3  Hi Paxton Let me talk to Debby first, before w...   \n",
       "4                                                NaN   \n",
       "\n",
       "                                     text_exercise_7  \\\n",
       "0                                                NaN   \n",
       "1                                                NaN   \n",
       "2  J.J We will look at them together Thank You Ja...   \n",
       "3  Hi Patton why don't we get these folks and giv...   \n",
       "4  JJ HR along with myself and the Final Assembly...   \n",
       "\n",
       "                                     text_exercise_8  \\\n",
       "0  Hi Taylor: That sounds like a great idea, go a...   \n",
       "1  Hi Talyor, No I do not think it is a good idea...   \n",
       "2                                                NaN   \n",
       "3                                                NaN   \n",
       "4                                                NaN   \n",
       "\n",
       "                                     text_exercise_9  \\\n",
       "0  Taylor/Kim: I sent you an email earlier regard...   \n",
       "1                                                NaN   \n",
       "2  I will look into this matter. Thank You Jamie ...   \n",
       "3  Hi Norman we have to suspend Larry and harry o...   \n",
       "4  Alex I appreciate the heads up on this. I will...   \n",
       "\n",
       "                                    text_exercise_10  \\\n",
       "0  Haley, I do not like to base a promotion based...   \n",
       "1  Hi Mr. Roth, I have chosen Blaine. His perform...   \n",
       "2                                                NaN   \n",
       "3                                                NaN   \n",
       "4                                                NaN   \n",
       "\n",
       "                                    text_exercise_11  \\\n",
       "0                                                NaN   \n",
       "1                                                NaN   \n",
       "2  Great, I think room BP07 AT 12:00pm to 1:00pm ...   \n",
       "3  Hi Foster let have the meeting at 2:00 to 3:00...   \n",
       "4  Shea Based on my recent calendar revisions and...   \n",
       "\n",
       "                                    text_exercise_12  \\\n",
       "0                                                NaN   \n",
       "1                                                NaN   \n",
       "2  Thank you I see something I can do.  Thank You...   \n",
       "3  Jennifer the infomation you sent me, it looks ...   \n",
       "4  Jennifer Thank you for the March repair report...   \n",
       "\n",
       "                                    text_exercise_13  \\\n",
       "0  Kim/Taylor: At this point you are far more fam...   \n",
       "1                                                NaN   \n",
       "2                                                NaN   \n",
       "3                                                NaN   \n",
       "4                                                NaN   \n",
       "\n",
       "                                    text_exercise_14  \\\n",
       "0                                                NaN   \n",
       "1                                                NaN   \n",
       "2  Thank you for keeping me in the know. Keep up ...   \n",
       "3  , Hi Paxton we can get together on april 20 ar...   \n",
       "4  JJ Thank you for all your efforts and the info...   \n",
       "\n",
       "                                    text_exercise_15  \\\n",
       "0                                                NaN   \n",
       "1                                                NaN   \n",
       "2                                                NaN   \n",
       "3  Hi Isaac let me see what kind of schadule I ha...   \n",
       "4  Isaac By insatlling the software on the 15th, ...   \n",
       "\n",
       "                                    text_exercise_16  \\\n",
       "0  Taylor, POlease hold off on collecting hand wr...   \n",
       "1  Hi Taylor, Stop your investigation immediately...   \n",
       "2                                                NaN   \n",
       "3                                                NaN   \n",
       "4                                                NaN   \n",
       "\n",
       "                                    text_exercise_17  \\\n",
       "0                                                NaN   \n",
       "1                                                NaN   \n",
       "2  Thank You I'll take care of it. Thank You Jami...   \n",
       "3  Hi Bern I think is better is we take both to l...   \n",
       "4                                                NaN   \n",
       "\n",
       "                                    text_exercise_18  \\\n",
       "0  Taylor, Please hold off on contact Tom Weedler...   \n",
       "1  Hi Taylor, It is possible that everything is a...   \n",
       "2                                                NaN   \n",
       "3                                                NaN   \n",
       "4                                                NaN   \n",
       "\n",
       "                                    text_exercise_19  \\\n",
       "0  Kim, Please meet with HR Liang and Tracy to fi...   \n",
       "1  Liang, Stop what you are doing. First of all, ...   \n",
       "2  Wait , Let me go talk to J.J . before you do a...   \n",
       "3  H Daisha you did the right thing thank you for...   \n",
       "4  Vic I suggest you approachHR before taking thi...   \n",
       "\n",
       "                                 text_exercise_final  \n",
       "0  See below for answers.Original Message----- Fr...  \n",
       "1  Original Message----- From: Assessment Adminis...  \n",
       "2  No, Focus and Team work I need to talk with th...  \n",
       "3                                                NaN  \n",
       "4  Original Message----- From: Assessment Adminis...  "
      ]
     },
     "execution_count": 7,
     "metadata": {},
     "output_type": "execute_result"
    }
   ],
   "source": [
    "train_df.head()"
   ]
  },
  {
   "cell_type": "code",
   "execution_count": 8,
   "metadata": {},
   "outputs": [
    {
     "data": {
      "text/html": [
       "<div>\n",
       "<style scoped>\n",
       "    .dataframe tbody tr th:only-of-type {\n",
       "        vertical-align: middle;\n",
       "    }\n",
       "\n",
       "    .dataframe tbody tr th {\n",
       "        vertical-align: top;\n",
       "    }\n",
       "\n",
       "    .dataframe thead th {\n",
       "        text-align: right;\n",
       "    }\n",
       "</style>\n",
       "<table border=\"1\" class=\"dataframe\">\n",
       "  <thead>\n",
       "    <tr style=\"text-align: right;\">\n",
       "      <th></th>\n",
       "      <th>response_id</th>\n",
       "      <th>rating_chooses_appropriate_action</th>\n",
       "      <th>rating_commits_to_action</th>\n",
       "      <th>rating_gathers_information</th>\n",
       "      <th>rating_identifies_issues_opportunities</th>\n",
       "      <th>rating_interprets_information</th>\n",
       "      <th>rating_involves_others</th>\n",
       "      <th>rating_decision_making_final_score</th>\n",
       "      <th>text_exercise_4</th>\n",
       "      <th>text_exercise_5</th>\n",
       "      <th>text_exercise_6</th>\n",
       "      <th>text_exercise_7</th>\n",
       "      <th>text_exercise_8</th>\n",
       "      <th>text_exercise_9</th>\n",
       "      <th>text_exercise_10</th>\n",
       "      <th>text_exercise_11</th>\n",
       "      <th>text_exercise_12</th>\n",
       "      <th>text_exercise_13</th>\n",
       "      <th>text_exercise_14</th>\n",
       "      <th>text_exercise_15</th>\n",
       "      <th>text_exercise_16</th>\n",
       "      <th>text_exercise_17</th>\n",
       "      <th>text_exercise_18</th>\n",
       "      <th>text_exercise_19</th>\n",
       "      <th>text_exercise_final</th>\n",
       "    </tr>\n",
       "  </thead>\n",
       "  <tbody>\n",
       "    <tr>\n",
       "      <th>0</th>\n",
       "      <td>XSEKmbXmmZi</td>\n",
       "      <td>NaN</td>\n",
       "      <td>NaN</td>\n",
       "      <td>NaN</td>\n",
       "      <td>NaN</td>\n",
       "      <td>NaN</td>\n",
       "      <td>NaN</td>\n",
       "      <td>NaN</td>\n",
       "      <td>NaN</td>\n",
       "      <td>NaN</td>\n",
       "      <td>NaN</td>\n",
       "      <td>NaN</td>\n",
       "      <td>NaN</td>\n",
       "      <td>Alex: Thank you for bringing this incident to ...</td>\n",
       "      <td>NaN</td>\n",
       "      <td>Shea: Thank you for giving me a heads up on so...</td>\n",
       "      <td>NaN</td>\n",
       "      <td>NaN</td>\n",
       "      <td>NaN</td>\n",
       "      <td>NaN</td>\n",
       "      <td>NaN</td>\n",
       "      <td>NaN</td>\n",
       "      <td>NaN</td>\n",
       "      <td>Vic: I appreciate you informing me of your obs...</td>\n",
       "      <td>1) Being a new employee, I decided to read thr...</td>\n",
       "    </tr>\n",
       "    <tr>\n",
       "      <th>1</th>\n",
       "      <td>OTigqBfxROr</td>\n",
       "      <td>NaN</td>\n",
       "      <td>NaN</td>\n",
       "      <td>NaN</td>\n",
       "      <td>NaN</td>\n",
       "      <td>NaN</td>\n",
       "      <td>NaN</td>\n",
       "      <td>NaN</td>\n",
       "      <td>NaN</td>\n",
       "      <td>NaN</td>\n",
       "      <td>J.J., Thank you for bringing this to my attent...</td>\n",
       "      <td>J.J. I understand your concern, but that is a ...</td>\n",
       "      <td>NaN</td>\n",
       "      <td>Alex, Thank you I will take care of this right...</td>\n",
       "      <td>NaN</td>\n",
       "      <td>Shea, Thank you for the heads up about my team...</td>\n",
       "      <td>Jennifer, Thank you for the information. Based...</td>\n",
       "      <td>NaN</td>\n",
       "      <td>Hello J.J., That sounds great. I really apprec...</td>\n",
       "      <td>Isaac, We are very excited to test the new sof...</td>\n",
       "      <td>NaN</td>\n",
       "      <td>NaN</td>\n",
       "      <td>NaN</td>\n",
       "      <td>NaN</td>\n",
       "      <td>1. I initially tried to handle each challenge ...</td>\n",
       "    </tr>\n",
       "    <tr>\n",
       "      <th>2</th>\n",
       "      <td>lMGidYKEOBv</td>\n",
       "      <td>NaN</td>\n",
       "      <td>NaN</td>\n",
       "      <td>NaN</td>\n",
       "      <td>NaN</td>\n",
       "      <td>NaN</td>\n",
       "      <td>NaN</td>\n",
       "      <td>NaN</td>\n",
       "      <td>NaN</td>\n",
       "      <td>NaN</td>\n",
       "      <td>Hi J.J, Unfortunately, moving Debby Britzki to...</td>\n",
       "      <td>J.J, I didnt appreciate your age discriminatio...</td>\n",
       "      <td>NaN</td>\n",
       "      <td>Hi Norma, I'm sorry to hear that, and I will f...</td>\n",
       "      <td>NaN</td>\n",
       "      <td>Thank you Shea. I would choose 12:00 p.m.  1:0...</td>\n",
       "      <td>Thank you Jennifer for your feedback. I will c...</td>\n",
       "      <td>NaN</td>\n",
       "      <td>Yes defiantly I would like to set down with yo...</td>\n",
       "      <td>Hi Isaac, Thank you, and I too looking forward...</td>\n",
       "      <td>NaN</td>\n",
       "      <td>Thank you Paul. I wil let Cory know. I appreci...</td>\n",
       "      <td>NaN</td>\n",
       "      <td>Daisha, I would like to be their when you talk...</td>\n",
       "      <td>Communication issues: This is an issue because...</td>\n",
       "    </tr>\n",
       "    <tr>\n",
       "      <th>3</th>\n",
       "      <td>lEmnRmxniLl</td>\n",
       "      <td>NaN</td>\n",
       "      <td>NaN</td>\n",
       "      <td>NaN</td>\n",
       "      <td>NaN</td>\n",
       "      <td>NaN</td>\n",
       "      <td>NaN</td>\n",
       "      <td>NaN</td>\n",
       "      <td>NaN</td>\n",
       "      <td>NaN</td>\n",
       "      <td>Hey JJ It sounds like Debby's been a problem f...</td>\n",
       "      <td>Hey JJ, Integrating the Kirkland plant people ...</td>\n",
       "      <td>NaN</td>\n",
       "      <td>NaN</td>\n",
       "      <td>NaN</td>\n",
       "      <td>Shea, We'll take BP07 during lunch time, since...</td>\n",
       "      <td>Thanks Jennifer, It seems like reducing absent...</td>\n",
       "      <td>NaN</td>\n",
       "      <td>Hey J.J., That sounds like a great idea! I'd l...</td>\n",
       "      <td>Everyone, It sounds like we've got a detailed ...</td>\n",
       "      <td>NaN</td>\n",
       "      <td>NaN</td>\n",
       "      <td>NaN</td>\n",
       "      <td>Vic, I think I know about the project JJ is re...</td>\n",
       "      <td>Responses after questions below:Original Messa...</td>\n",
       "    </tr>\n",
       "    <tr>\n",
       "      <th>4</th>\n",
       "      <td>OhnFgbmEVqG</td>\n",
       "      <td>NaN</td>\n",
       "      <td>NaN</td>\n",
       "      <td>NaN</td>\n",
       "      <td>NaN</td>\n",
       "      <td>NaN</td>\n",
       "      <td>NaN</td>\n",
       "      <td>NaN</td>\n",
       "      <td>NaN</td>\n",
       "      <td>NaN</td>\n",
       "      <td>Hi J. J., I appreciate your enthusiasm for you...</td>\n",
       "      <td>Hi J. J., Thank for wanting to be involved in ...</td>\n",
       "      <td>NaN</td>\n",
       "      <td>Hi Alex, I am extremely disappointed in the be...</td>\n",
       "      <td>NaN</td>\n",
       "      <td>NaN</td>\n",
       "      <td>Hi Jennifer, I really do not think we are losi...</td>\n",
       "      <td>NaN</td>\n",
       "      <td>Hi J. J. Again, I appreciate your enthusiasm b...</td>\n",
       "      <td>Hello Isaac, I am glad to hear of the upgrades...</td>\n",
       "      <td>NaN</td>\n",
       "      <td>NaN</td>\n",
       "      <td>NaN</td>\n",
       "      <td>Hi Daisha, Thank you for your efforts to minim...</td>\n",
       "      <td>NaN</td>\n",
       "    </tr>\n",
       "  </tbody>\n",
       "</table>\n",
       "</div>"
      ],
      "text/plain": [
       "   response_id  rating_chooses_appropriate_action  rating_commits_to_action  \\\n",
       "0  XSEKmbXmmZi                                NaN                       NaN   \n",
       "1  OTigqBfxROr                                NaN                       NaN   \n",
       "2  lMGidYKEOBv                                NaN                       NaN   \n",
       "3  lEmnRmxniLl                                NaN                       NaN   \n",
       "4  OhnFgbmEVqG                                NaN                       NaN   \n",
       "\n",
       "   rating_gathers_information  rating_identifies_issues_opportunities  \\\n",
       "0                         NaN                                     NaN   \n",
       "1                         NaN                                     NaN   \n",
       "2                         NaN                                     NaN   \n",
       "3                         NaN                                     NaN   \n",
       "4                         NaN                                     NaN   \n",
       "\n",
       "   rating_interprets_information  rating_involves_others  \\\n",
       "0                            NaN                     NaN   \n",
       "1                            NaN                     NaN   \n",
       "2                            NaN                     NaN   \n",
       "3                            NaN                     NaN   \n",
       "4                            NaN                     NaN   \n",
       "\n",
       "   rating_decision_making_final_score text_exercise_4 text_exercise_5  \\\n",
       "0                                 NaN             NaN             NaN   \n",
       "1                                 NaN             NaN             NaN   \n",
       "2                                 NaN             NaN             NaN   \n",
       "3                                 NaN             NaN             NaN   \n",
       "4                                 NaN             NaN             NaN   \n",
       "\n",
       "                                     text_exercise_6  \\\n",
       "0                                                NaN   \n",
       "1  J.J., Thank you for bringing this to my attent...   \n",
       "2  Hi J.J, Unfortunately, moving Debby Britzki to...   \n",
       "3  Hey JJ It sounds like Debby's been a problem f...   \n",
       "4  Hi J. J., I appreciate your enthusiasm for you...   \n",
       "\n",
       "                                     text_exercise_7 text_exercise_8  \\\n",
       "0                                                NaN             NaN   \n",
       "1  J.J. I understand your concern, but that is a ...             NaN   \n",
       "2  J.J, I didnt appreciate your age discriminatio...             NaN   \n",
       "3  Hey JJ, Integrating the Kirkland plant people ...             NaN   \n",
       "4  Hi J. J., Thank for wanting to be involved in ...             NaN   \n",
       "\n",
       "                                     text_exercise_9 text_exercise_10  \\\n",
       "0  Alex: Thank you for bringing this incident to ...              NaN   \n",
       "1  Alex, Thank you I will take care of this right...              NaN   \n",
       "2  Hi Norma, I'm sorry to hear that, and I will f...              NaN   \n",
       "3                                                NaN              NaN   \n",
       "4  Hi Alex, I am extremely disappointed in the be...              NaN   \n",
       "\n",
       "                                    text_exercise_11  \\\n",
       "0  Shea: Thank you for giving me a heads up on so...   \n",
       "1  Shea, Thank you for the heads up about my team...   \n",
       "2  Thank you Shea. I would choose 12:00 p.m.  1:0...   \n",
       "3  Shea, We'll take BP07 during lunch time, since...   \n",
       "4                                                NaN   \n",
       "\n",
       "                                    text_exercise_12 text_exercise_13  \\\n",
       "0                                                NaN              NaN   \n",
       "1  Jennifer, Thank you for the information. Based...              NaN   \n",
       "2  Thank you Jennifer for your feedback. I will c...              NaN   \n",
       "3  Thanks Jennifer, It seems like reducing absent...              NaN   \n",
       "4  Hi Jennifer, I really do not think we are losi...              NaN   \n",
       "\n",
       "                                    text_exercise_14  \\\n",
       "0                                                NaN   \n",
       "1  Hello J.J., That sounds great. I really apprec...   \n",
       "2  Yes defiantly I would like to set down with yo...   \n",
       "3  Hey J.J., That sounds like a great idea! I'd l...   \n",
       "4  Hi J. J. Again, I appreciate your enthusiasm b...   \n",
       "\n",
       "                                    text_exercise_15 text_exercise_16  \\\n",
       "0                                                NaN              NaN   \n",
       "1  Isaac, We are very excited to test the new sof...              NaN   \n",
       "2  Hi Isaac, Thank you, and I too looking forward...              NaN   \n",
       "3  Everyone, It sounds like we've got a detailed ...              NaN   \n",
       "4  Hello Isaac, I am glad to hear of the upgrades...              NaN   \n",
       "\n",
       "                                    text_exercise_17 text_exercise_18  \\\n",
       "0                                                NaN              NaN   \n",
       "1                                                NaN              NaN   \n",
       "2  Thank you Paul. I wil let Cory know. I appreci...              NaN   \n",
       "3                                                NaN              NaN   \n",
       "4                                                NaN              NaN   \n",
       "\n",
       "                                    text_exercise_19  \\\n",
       "0  Vic: I appreciate you informing me of your obs...   \n",
       "1                                                NaN   \n",
       "2  Daisha, I would like to be their when you talk...   \n",
       "3  Vic, I think I know about the project JJ is re...   \n",
       "4  Hi Daisha, Thank you for your efforts to minim...   \n",
       "\n",
       "                                 text_exercise_final  \n",
       "0  1) Being a new employee, I decided to read thr...  \n",
       "1  1. I initially tried to handle each challenge ...  \n",
       "2  Communication issues: This is an issue because...  \n",
       "3  Responses after questions below:Original Messa...  \n",
       "4                                                NaN  "
      ]
     },
     "execution_count": 8,
     "metadata": {},
     "output_type": "execute_result"
    }
   ],
   "source": [
    "dev_df.head()"
   ]
  },
  {
   "cell_type": "code",
   "execution_count": 9,
   "metadata": {},
   "outputs": [
    {
     "data": {
      "text/html": [
       "<div>\n",
       "<style scoped>\n",
       "    .dataframe tbody tr th:only-of-type {\n",
       "        vertical-align: middle;\n",
       "    }\n",
       "\n",
       "    .dataframe tbody tr th {\n",
       "        vertical-align: top;\n",
       "    }\n",
       "\n",
       "    .dataframe thead th {\n",
       "        text-align: right;\n",
       "    }\n",
       "</style>\n",
       "<table border=\"1\" class=\"dataframe\">\n",
       "  <thead>\n",
       "    <tr style=\"text-align: right;\">\n",
       "      <th></th>\n",
       "      <th>response_id</th>\n",
       "      <th>rating_chooses_appropriate_action</th>\n",
       "      <th>rating_commits_to_action</th>\n",
       "      <th>rating_gathers_information</th>\n",
       "      <th>rating_identifies_issues_opportunities</th>\n",
       "      <th>rating_interprets_information</th>\n",
       "      <th>rating_involves_others</th>\n",
       "      <th>rating_decision_making_final_score</th>\n",
       "      <th>text_exercise_4</th>\n",
       "      <th>text_exercise_5</th>\n",
       "      <th>text_exercise_6</th>\n",
       "      <th>text_exercise_7</th>\n",
       "      <th>text_exercise_8</th>\n",
       "      <th>text_exercise_9</th>\n",
       "      <th>text_exercise_10</th>\n",
       "      <th>text_exercise_11</th>\n",
       "      <th>text_exercise_12</th>\n",
       "      <th>text_exercise_13</th>\n",
       "      <th>text_exercise_14</th>\n",
       "      <th>text_exercise_15</th>\n",
       "      <th>text_exercise_16</th>\n",
       "      <th>text_exercise_17</th>\n",
       "      <th>text_exercise_18</th>\n",
       "      <th>text_exercise_19</th>\n",
       "      <th>text_exercise_final</th>\n",
       "    </tr>\n",
       "  </thead>\n",
       "  <tbody>\n",
       "    <tr>\n",
       "      <th>0</th>\n",
       "      <td>DMhdlGkGeHU</td>\n",
       "      <td>NaN</td>\n",
       "      <td>NaN</td>\n",
       "      <td>NaN</td>\n",
       "      <td>NaN</td>\n",
       "      <td>NaN</td>\n",
       "      <td>NaN</td>\n",
       "      <td>NaN</td>\n",
       "      <td>NaN</td>\n",
       "      <td>NaN</td>\n",
       "      <td>J.J., I will check with Karen Duvalier about w...</td>\n",
       "      <td>J.J. , I am not sure what process will be used...</td>\n",
       "      <td>NaN</td>\n",
       "      <td>NaN</td>\n",
       "      <td>NaN</td>\n",
       "      <td>NaN</td>\n",
       "      <td>NaN</td>\n",
       "      <td>NaN</td>\n",
       "      <td>Hello J.J., thank you for the insight. Before ...</td>\n",
       "      <td>NaN</td>\n",
       "      <td>NaN</td>\n",
       "      <td>NaN</td>\n",
       "      <td>NaN</td>\n",
       "      <td>NaN</td>\n",
       "      <td>I tried to respond to each one as I read it, b...</td>\n",
       "    </tr>\n",
       "    <tr>\n",
       "      <th>1</th>\n",
       "      <td>HmHzfEmhMXe</td>\n",
       "      <td>NaN</td>\n",
       "      <td>NaN</td>\n",
       "      <td>NaN</td>\n",
       "      <td>NaN</td>\n",
       "      <td>NaN</td>\n",
       "      <td>NaN</td>\n",
       "      <td>NaN</td>\n",
       "      <td>NaN</td>\n",
       "      <td>NaN</td>\n",
       "      <td>J.J. Iwill talk to her when I come back from v...</td>\n",
       "      <td>J.J I can't do that ,is not right besides you ...</td>\n",
       "      <td>NaN</td>\n",
       "      <td>Alex, Thisis embarrazing I will take matter in...</td>\n",
       "      <td>NaN</td>\n",
       "      <td>Shea, Iwill be on vaction but I send an e-mail...</td>\n",
       "      <td>Jennifer, This is alarming I didn't know this ...</td>\n",
       "      <td>NaN</td>\n",
       "      <td>J.J I am looking foward to meet with you in re...</td>\n",
       "      <td>Isaac, Ilook foward to meeting you in person a...</td>\n",
       "      <td>NaN</td>\n",
       "      <td>NaN</td>\n",
       "      <td>NaN</td>\n",
       "      <td>Vic, iIcan't believe this can you please check...</td>\n",
       "      <td>NaN</td>\n",
       "    </tr>\n",
       "    <tr>\n",
       "      <th>2</th>\n",
       "      <td>jvuxQdkBzjt</td>\n",
       "      <td>NaN</td>\n",
       "      <td>NaN</td>\n",
       "      <td>NaN</td>\n",
       "      <td>NaN</td>\n",
       "      <td>NaN</td>\n",
       "      <td>NaN</td>\n",
       "      <td>NaN</td>\n",
       "      <td>NaN</td>\n",
       "      <td>NaN</td>\n",
       "      <td>J.J., Before we make any decisions on moving h...</td>\n",
       "      <td>J.J, This will be a perfect opportunity for us...</td>\n",
       "      <td>NaN</td>\n",
       "      <td>Norman, Thank you for bringing this to my atte...</td>\n",
       "      <td>NaN</td>\n",
       "      <td>Shea, Thanks for the information. April 21st a...</td>\n",
       "      <td>Jennifer, Thank you for this information. Afte...</td>\n",
       "      <td>NaN</td>\n",
       "      <td>J.J., Thanks for the update. I appreciate that...</td>\n",
       "      <td>NaN</td>\n",
       "      <td>NaN</td>\n",
       "      <td>NaN</td>\n",
       "      <td>NaN</td>\n",
       "      <td>Vic, J.J. recently notified me that he was wor...</td>\n",
       "      <td>I looked at the heading of the email first. If...</td>\n",
       "    </tr>\n",
       "    <tr>\n",
       "      <th>3</th>\n",
       "      <td>RHVGolCWJGA</td>\n",
       "      <td>NaN</td>\n",
       "      <td>NaN</td>\n",
       "      <td>NaN</td>\n",
       "      <td>NaN</td>\n",
       "      <td>NaN</td>\n",
       "      <td>NaN</td>\n",
       "      <td>NaN</td>\n",
       "      <td>NaN</td>\n",
       "      <td>Tracy, Yes, you can sent the graph to Haley bu...</td>\n",
       "      <td>NaN</td>\n",
       "      <td>NaN</td>\n",
       "      <td>DearTaylor, Great if you have foundsomeone to ...</td>\n",
       "      <td>Dear Alex, Noted,will do the necessary. Cary</td>\n",
       "      <td>Haley, Ipropose Blaine Lerner's for the follow...</td>\n",
       "      <td>NaN</td>\n",
       "      <td>NaN</td>\n",
       "      <td>Hi Haley, I am nominating the following: 1. Ja...</td>\n",
       "      <td>NaN</td>\n",
       "      <td>NaN</td>\n",
       "      <td>Dear Taylor, As for this issue, I suggest the ...</td>\n",
       "      <td>NaN</td>\n",
       "      <td>Dear Taylor, I propose that you call Mr.. Weed...</td>\n",
       "      <td>Dear Liang, Tracy did informed earlier today t...</td>\n",
       "      <td>NaN</td>\n",
       "    </tr>\n",
       "    <tr>\n",
       "      <th>4</th>\n",
       "      <td>RmfWkJyFKtZ</td>\n",
       "      <td>NaN</td>\n",
       "      <td>NaN</td>\n",
       "      <td>NaN</td>\n",
       "      <td>NaN</td>\n",
       "      <td>NaN</td>\n",
       "      <td>NaN</td>\n",
       "      <td>NaN</td>\n",
       "      <td>NaN</td>\n",
       "      <td>NaN</td>\n",
       "      <td>NaN</td>\n",
       "      <td>J.J. I'll address your thoughts and the though...</td>\n",
       "      <td>NaN</td>\n",
       "      <td>NaN</td>\n",
       "      <td>NaN</td>\n",
       "      <td>NaN</td>\n",
       "      <td>Jennifer, Thanks for the info. very useful. Le...</td>\n",
       "      <td>NaN</td>\n",
       "      <td>J.J. Gotta love your enthusiasm! Thanks for th...</td>\n",
       "      <td>Isaac, Got your email. Sounds like a nice impr...</td>\n",
       "      <td>NaN</td>\n",
       "      <td>NaN</td>\n",
       "      <td>NaN</td>\n",
       "      <td>Vic, We need to talk about this immediately. J...</td>\n",
       "      <td>See below...Original Message----- From: Assess...</td>\n",
       "    </tr>\n",
       "  </tbody>\n",
       "</table>\n",
       "</div>"
      ],
      "text/plain": [
       "   response_id  rating_chooses_appropriate_action  rating_commits_to_action  \\\n",
       "0  DMhdlGkGeHU                                NaN                       NaN   \n",
       "1  HmHzfEmhMXe                                NaN                       NaN   \n",
       "2  jvuxQdkBzjt                                NaN                       NaN   \n",
       "3  RHVGolCWJGA                                NaN                       NaN   \n",
       "4  RmfWkJyFKtZ                                NaN                       NaN   \n",
       "\n",
       "   rating_gathers_information  rating_identifies_issues_opportunities  \\\n",
       "0                         NaN                                     NaN   \n",
       "1                         NaN                                     NaN   \n",
       "2                         NaN                                     NaN   \n",
       "3                         NaN                                     NaN   \n",
       "4                         NaN                                     NaN   \n",
       "\n",
       "   rating_interprets_information  rating_involves_others  \\\n",
       "0                            NaN                     NaN   \n",
       "1                            NaN                     NaN   \n",
       "2                            NaN                     NaN   \n",
       "3                            NaN                     NaN   \n",
       "4                            NaN                     NaN   \n",
       "\n",
       "   rating_decision_making_final_score text_exercise_4  \\\n",
       "0                                 NaN             NaN   \n",
       "1                                 NaN             NaN   \n",
       "2                                 NaN             NaN   \n",
       "3                                 NaN             NaN   \n",
       "4                                 NaN             NaN   \n",
       "\n",
       "                                     text_exercise_5  \\\n",
       "0                                                NaN   \n",
       "1                                                NaN   \n",
       "2                                                NaN   \n",
       "3  Tracy, Yes, you can sent the graph to Haley bu...   \n",
       "4                                                NaN   \n",
       "\n",
       "                                     text_exercise_6  \\\n",
       "0  J.J., I will check with Karen Duvalier about w...   \n",
       "1  J.J. Iwill talk to her when I come back from v...   \n",
       "2  J.J., Before we make any decisions on moving h...   \n",
       "3                                                NaN   \n",
       "4                                                NaN   \n",
       "\n",
       "                                     text_exercise_7  \\\n",
       "0  J.J. , I am not sure what process will be used...   \n",
       "1  J.J I can't do that ,is not right besides you ...   \n",
       "2  J.J, This will be a perfect opportunity for us...   \n",
       "3                                                NaN   \n",
       "4  J.J. I'll address your thoughts and the though...   \n",
       "\n",
       "                                     text_exercise_8  \\\n",
       "0                                                NaN   \n",
       "1                                                NaN   \n",
       "2                                                NaN   \n",
       "3  DearTaylor, Great if you have foundsomeone to ...   \n",
       "4                                                NaN   \n",
       "\n",
       "                                     text_exercise_9  \\\n",
       "0                                                NaN   \n",
       "1  Alex, Thisis embarrazing I will take matter in...   \n",
       "2  Norman, Thank you for bringing this to my atte...   \n",
       "3       Dear Alex, Noted,will do the necessary. Cary   \n",
       "4                                                NaN   \n",
       "\n",
       "                                    text_exercise_10  \\\n",
       "0                                                NaN   \n",
       "1                                                NaN   \n",
       "2                                                NaN   \n",
       "3  Haley, Ipropose Blaine Lerner's for the follow...   \n",
       "4                                                NaN   \n",
       "\n",
       "                                    text_exercise_11  \\\n",
       "0                                                NaN   \n",
       "1  Shea, Iwill be on vaction but I send an e-mail...   \n",
       "2  Shea, Thanks for the information. April 21st a...   \n",
       "3                                                NaN   \n",
       "4                                                NaN   \n",
       "\n",
       "                                    text_exercise_12  \\\n",
       "0                                                NaN   \n",
       "1  Jennifer, This is alarming I didn't know this ...   \n",
       "2  Jennifer, Thank you for this information. Afte...   \n",
       "3                                                NaN   \n",
       "4  Jennifer, Thanks for the info. very useful. Le...   \n",
       "\n",
       "                                    text_exercise_13  \\\n",
       "0                                                NaN   \n",
       "1                                                NaN   \n",
       "2                                                NaN   \n",
       "3  Hi Haley, I am nominating the following: 1. Ja...   \n",
       "4                                                NaN   \n",
       "\n",
       "                                    text_exercise_14  \\\n",
       "0  Hello J.J., thank you for the insight. Before ...   \n",
       "1  J.J I am looking foward to meet with you in re...   \n",
       "2  J.J., Thanks for the update. I appreciate that...   \n",
       "3                                                NaN   \n",
       "4  J.J. Gotta love your enthusiasm! Thanks for th...   \n",
       "\n",
       "                                    text_exercise_15  \\\n",
       "0                                                NaN   \n",
       "1  Isaac, Ilook foward to meeting you in person a...   \n",
       "2                                                NaN   \n",
       "3                                                NaN   \n",
       "4  Isaac, Got your email. Sounds like a nice impr...   \n",
       "\n",
       "                                    text_exercise_16 text_exercise_17  \\\n",
       "0                                                NaN              NaN   \n",
       "1                                                NaN              NaN   \n",
       "2                                                NaN              NaN   \n",
       "3  Dear Taylor, As for this issue, I suggest the ...              NaN   \n",
       "4                                                NaN              NaN   \n",
       "\n",
       "                                    text_exercise_18  \\\n",
       "0                                                NaN   \n",
       "1                                                NaN   \n",
       "2                                                NaN   \n",
       "3  Dear Taylor, I propose that you call Mr.. Weed...   \n",
       "4                                                NaN   \n",
       "\n",
       "                                    text_exercise_19  \\\n",
       "0                                                NaN   \n",
       "1  Vic, iIcan't believe this can you please check...   \n",
       "2  Vic, J.J. recently notified me that he was wor...   \n",
       "3  Dear Liang, Tracy did informed earlier today t...   \n",
       "4  Vic, We need to talk about this immediately. J...   \n",
       "\n",
       "                                 text_exercise_final  \n",
       "0  I tried to respond to each one as I read it, b...  \n",
       "1                                                NaN  \n",
       "2  I looked at the heading of the email first. If...  \n",
       "3                                                NaN  \n",
       "4  See below...Original Message----- From: Assess...  "
      ]
     },
     "execution_count": 9,
     "metadata": {},
     "output_type": "execute_result"
    }
   ],
   "source": [
    "test_df.head()"
   ]
  },
  {
   "cell_type": "markdown",
   "metadata": {},
   "source": [
    "## Exploratory Data Analysis"
   ]
  },
  {
   "cell_type": "code",
   "execution_count": 10,
   "metadata": {
    "tags": []
   },
   "outputs": [
    {
     "data": {
      "text/html": [
       "<div>\n",
       "<style scoped>\n",
       "    .dataframe tbody tr th:only-of-type {\n",
       "        vertical-align: middle;\n",
       "    }\n",
       "\n",
       "    .dataframe tbody tr th {\n",
       "        vertical-align: top;\n",
       "    }\n",
       "\n",
       "    .dataframe thead th {\n",
       "        text-align: right;\n",
       "    }\n",
       "</style>\n",
       "<table border=\"1\" class=\"dataframe\">\n",
       "  <thead>\n",
       "    <tr style=\"text-align: right;\">\n",
       "      <th></th>\n",
       "      <th>rating_commits_to_action</th>\n",
       "      <th>rating_gathers_information</th>\n",
       "      <th>rating_identifies_issues_opportunities</th>\n",
       "      <th>rating_interprets_information</th>\n",
       "      <th>rating_involves_others</th>\n",
       "      <th>rating_decision_making_final_score</th>\n",
       "    </tr>\n",
       "  </thead>\n",
       "  <tbody>\n",
       "    <tr>\n",
       "      <th>count</th>\n",
       "      <td>1466.000000</td>\n",
       "      <td>1466.000000</td>\n",
       "      <td>1386.000000</td>\n",
       "      <td>1466.000000</td>\n",
       "      <td>1381.000000</td>\n",
       "      <td>1466.000000</td>\n",
       "    </tr>\n",
       "    <tr>\n",
       "      <th>mean</th>\n",
       "      <td>3.092769</td>\n",
       "      <td>2.703274</td>\n",
       "      <td>2.668831</td>\n",
       "      <td>2.465211</td>\n",
       "      <td>2.804490</td>\n",
       "      <td>3.221010</td>\n",
       "    </tr>\n",
       "    <tr>\n",
       "      <th>std</th>\n",
       "      <td>0.611261</td>\n",
       "      <td>0.648403</td>\n",
       "      <td>0.564276</td>\n",
       "      <td>0.619769</td>\n",
       "      <td>0.673092</td>\n",
       "      <td>1.308516</td>\n",
       "    </tr>\n",
       "    <tr>\n",
       "      <th>min</th>\n",
       "      <td>1.000000</td>\n",
       "      <td>1.000000</td>\n",
       "      <td>1.000000</td>\n",
       "      <td>2.000000</td>\n",
       "      <td>2.000000</td>\n",
       "      <td>1.000000</td>\n",
       "    </tr>\n",
       "    <tr>\n",
       "      <th>25%</th>\n",
       "      <td>3.000000</td>\n",
       "      <td>2.000000</td>\n",
       "      <td>2.000000</td>\n",
       "      <td>2.000000</td>\n",
       "      <td>2.000000</td>\n",
       "      <td>2.000000</td>\n",
       "    </tr>\n",
       "    <tr>\n",
       "      <th>50%</th>\n",
       "      <td>3.000000</td>\n",
       "      <td>3.000000</td>\n",
       "      <td>3.000000</td>\n",
       "      <td>2.000000</td>\n",
       "      <td>3.000000</td>\n",
       "      <td>3.000000</td>\n",
       "    </tr>\n",
       "    <tr>\n",
       "      <th>75%</th>\n",
       "      <td>3.000000</td>\n",
       "      <td>3.000000</td>\n",
       "      <td>3.000000</td>\n",
       "      <td>3.000000</td>\n",
       "      <td>3.000000</td>\n",
       "      <td>4.000000</td>\n",
       "    </tr>\n",
       "    <tr>\n",
       "      <th>max</th>\n",
       "      <td>4.000000</td>\n",
       "      <td>4.000000</td>\n",
       "      <td>4.000000</td>\n",
       "      <td>4.000000</td>\n",
       "      <td>4.000000</td>\n",
       "      <td>7.000000</td>\n",
       "    </tr>\n",
       "  </tbody>\n",
       "</table>\n",
       "</div>"
      ],
      "text/plain": [
       "       rating_commits_to_action  rating_gathers_information  \\\n",
       "count               1466.000000                 1466.000000   \n",
       "mean                   3.092769                    2.703274   \n",
       "std                    0.611261                    0.648403   \n",
       "min                    1.000000                    1.000000   \n",
       "25%                    3.000000                    2.000000   \n",
       "50%                    3.000000                    3.000000   \n",
       "75%                    3.000000                    3.000000   \n",
       "max                    4.000000                    4.000000   \n",
       "\n",
       "       rating_identifies_issues_opportunities  rating_interprets_information  \\\n",
       "count                             1386.000000                    1466.000000   \n",
       "mean                                 2.668831                       2.465211   \n",
       "std                                  0.564276                       0.619769   \n",
       "min                                  1.000000                       2.000000   \n",
       "25%                                  2.000000                       2.000000   \n",
       "50%                                  3.000000                       2.000000   \n",
       "75%                                  3.000000                       3.000000   \n",
       "max                                  4.000000                       4.000000   \n",
       "\n",
       "       rating_involves_others  rating_decision_making_final_score  \n",
       "count             1381.000000                         1466.000000  \n",
       "mean                 2.804490                            3.221010  \n",
       "std                  0.673092                            1.308516  \n",
       "min                  2.000000                            1.000000  \n",
       "25%                  2.000000                            2.000000  \n",
       "50%                  3.000000                            3.000000  \n",
       "75%                  3.000000                            4.000000  \n",
       "max                  4.000000                            7.000000  "
      ]
     },
     "execution_count": 10,
     "metadata": {},
     "output_type": "execute_result"
    }
   ],
   "source": [
    "# descriptives for each target\n",
    "train_df.iloc[:,2:9].describe()"
   ]
  },
  {
   "cell_type": "code",
   "execution_count": 11,
   "metadata": {
    "tags": []
   },
   "outputs": [
    {
     "name": "stderr",
     "output_type": "stream",
     "text": [
      "<ipython-input-11-221800799734>:2: FutureWarning: The default value of numeric_only in DataFrame.corr is deprecated. In a future version, it will default to False. Select only valid columns or specify the value of numeric_only to silence this warning.\n",
      "  train_df.iloc[:,2:9].corr()\n"
     ]
    },
    {
     "data": {
      "text/html": [
       "<div>\n",
       "<style scoped>\n",
       "    .dataframe tbody tr th:only-of-type {\n",
       "        vertical-align: middle;\n",
       "    }\n",
       "\n",
       "    .dataframe tbody tr th {\n",
       "        vertical-align: top;\n",
       "    }\n",
       "\n",
       "    .dataframe thead th {\n",
       "        text-align: right;\n",
       "    }\n",
       "</style>\n",
       "<table border=\"1\" class=\"dataframe\">\n",
       "  <thead>\n",
       "    <tr style=\"text-align: right;\">\n",
       "      <th></th>\n",
       "      <th>rating_commits_to_action</th>\n",
       "      <th>rating_gathers_information</th>\n",
       "      <th>rating_identifies_issues_opportunities</th>\n",
       "      <th>rating_interprets_information</th>\n",
       "      <th>rating_involves_others</th>\n",
       "      <th>rating_decision_making_final_score</th>\n",
       "    </tr>\n",
       "  </thead>\n",
       "  <tbody>\n",
       "    <tr>\n",
       "      <th>rating_commits_to_action</th>\n",
       "      <td>1.000000</td>\n",
       "      <td>0.252056</td>\n",
       "      <td>0.167202</td>\n",
       "      <td>0.253569</td>\n",
       "      <td>0.307503</td>\n",
       "      <td>0.543572</td>\n",
       "    </tr>\n",
       "    <tr>\n",
       "      <th>rating_gathers_information</th>\n",
       "      <td>0.252056</td>\n",
       "      <td>1.000000</td>\n",
       "      <td>0.125584</td>\n",
       "      <td>0.151798</td>\n",
       "      <td>0.218536</td>\n",
       "      <td>0.347666</td>\n",
       "    </tr>\n",
       "    <tr>\n",
       "      <th>rating_identifies_issues_opportunities</th>\n",
       "      <td>0.167202</td>\n",
       "      <td>0.125584</td>\n",
       "      <td>1.000000</td>\n",
       "      <td>0.307210</td>\n",
       "      <td>0.157192</td>\n",
       "      <td>0.384089</td>\n",
       "    </tr>\n",
       "    <tr>\n",
       "      <th>rating_interprets_information</th>\n",
       "      <td>0.253569</td>\n",
       "      <td>0.151798</td>\n",
       "      <td>0.307210</td>\n",
       "      <td>1.000000</td>\n",
       "      <td>0.200095</td>\n",
       "      <td>0.676950</td>\n",
       "    </tr>\n",
       "    <tr>\n",
       "      <th>rating_involves_others</th>\n",
       "      <td>0.307503</td>\n",
       "      <td>0.218536</td>\n",
       "      <td>0.157192</td>\n",
       "      <td>0.200095</td>\n",
       "      <td>1.000000</td>\n",
       "      <td>0.359319</td>\n",
       "    </tr>\n",
       "    <tr>\n",
       "      <th>rating_decision_making_final_score</th>\n",
       "      <td>0.543572</td>\n",
       "      <td>0.347666</td>\n",
       "      <td>0.384089</td>\n",
       "      <td>0.676950</td>\n",
       "      <td>0.359319</td>\n",
       "      <td>1.000000</td>\n",
       "    </tr>\n",
       "  </tbody>\n",
       "</table>\n",
       "</div>"
      ],
      "text/plain": [
       "                                        rating_commits_to_action  \\\n",
       "rating_commits_to_action                                1.000000   \n",
       "rating_gathers_information                              0.252056   \n",
       "rating_identifies_issues_opportunities                  0.167202   \n",
       "rating_interprets_information                           0.253569   \n",
       "rating_involves_others                                  0.307503   \n",
       "rating_decision_making_final_score                      0.543572   \n",
       "\n",
       "                                        rating_gathers_information  \\\n",
       "rating_commits_to_action                                  0.252056   \n",
       "rating_gathers_information                                1.000000   \n",
       "rating_identifies_issues_opportunities                    0.125584   \n",
       "rating_interprets_information                             0.151798   \n",
       "rating_involves_others                                    0.218536   \n",
       "rating_decision_making_final_score                        0.347666   \n",
       "\n",
       "                                        rating_identifies_issues_opportunities  \\\n",
       "rating_commits_to_action                                              0.167202   \n",
       "rating_gathers_information                                            0.125584   \n",
       "rating_identifies_issues_opportunities                                1.000000   \n",
       "rating_interprets_information                                         0.307210   \n",
       "rating_involves_others                                                0.157192   \n",
       "rating_decision_making_final_score                                    0.384089   \n",
       "\n",
       "                                        rating_interprets_information  \\\n",
       "rating_commits_to_action                                     0.253569   \n",
       "rating_gathers_information                                   0.151798   \n",
       "rating_identifies_issues_opportunities                       0.307210   \n",
       "rating_interprets_information                                1.000000   \n",
       "rating_involves_others                                       0.200095   \n",
       "rating_decision_making_final_score                           0.676950   \n",
       "\n",
       "                                        rating_involves_others  \\\n",
       "rating_commits_to_action                              0.307503   \n",
       "rating_gathers_information                            0.218536   \n",
       "rating_identifies_issues_opportunities                0.157192   \n",
       "rating_interprets_information                         0.200095   \n",
       "rating_involves_others                                1.000000   \n",
       "rating_decision_making_final_score                    0.359319   \n",
       "\n",
       "                                        rating_decision_making_final_score  \n",
       "rating_commits_to_action                                          0.543572  \n",
       "rating_gathers_information                                        0.347666  \n",
       "rating_identifies_issues_opportunities                            0.384089  \n",
       "rating_interprets_information                                     0.676950  \n",
       "rating_involves_others                                            0.359319  \n",
       "rating_decision_making_final_score                                1.000000  "
      ]
     },
     "execution_count": 11,
     "metadata": {},
     "output_type": "execute_result"
    }
   ],
   "source": [
    "# correlation table\n",
    "train_df.iloc[:,2:9].corr()"
   ]
  },
  {
   "cell_type": "code",
   "execution_count": 12,
   "metadata": {
    "tags": []
   },
   "outputs": [
    {
     "data": {
      "text/plain": [
       "response_id                               1466\n",
       "rating_chooses_appropriate_action         1386\n",
       "rating_commits_to_action                  1466\n",
       "rating_gathers_information                1466\n",
       "rating_identifies_issues_opportunities    1386\n",
       "rating_interprets_information             1466\n",
       "rating_involves_others                    1381\n",
       "rating_decision_making_final_score        1466\n",
       "text_exercise_4                            185\n",
       "text_exercise_5                            236\n",
       "text_exercise_6                           1042\n",
       "text_exercise_7                           1012\n",
       "text_exercise_8                            191\n",
       "text_exercise_9                           1145\n",
       "text_exercise_10                           223\n",
       "text_exercise_11                          1091\n",
       "text_exercise_12                           996\n",
       "text_exercise_13                           211\n",
       "text_exercise_14                          1085\n",
       "text_exercise_15                          1093\n",
       "text_exercise_16                           197\n",
       "text_exercise_17                           877\n",
       "text_exercise_18                           239\n",
       "text_exercise_19                          1353\n",
       "text_exercise_final                       1151\n",
       "dtype: int64"
      ]
     },
     "execution_count": 12,
     "metadata": {},
     "output_type": "execute_result"
    }
   ],
   "source": [
    "# number of data for each target & exercies\n",
    "train_df.notna().sum()"
   ]
  },
  {
   "cell_type": "code",
   "execution_count": 13,
   "metadata": {
    "tags": []
   },
   "outputs": [
    {
     "data": {
      "text/plain": [
       "count    1466.000000\n",
       "mean        8.408595\n",
       "std         1.718053\n",
       "min         1.000000\n",
       "25%         8.000000\n",
       "50%         9.000000\n",
       "75%        10.000000\n",
       "max        17.000000\n",
       "dtype: float64"
      ]
     },
     "execution_count": 13,
     "metadata": {},
     "output_type": "execute_result"
    }
   ],
   "source": [
    "# descriptives on number of exercises completed per subject\n",
    "train_df.iloc[:,8:].notna().sum(axis=1).describe()"
   ]
  },
  {
   "cell_type": "markdown",
   "metadata": {},
   "source": [
    "## Dealing with Missing Labels"
   ]
  },
  {
   "cell_type": "markdown",
   "metadata": {},
   "source": [
    "Here we investigate if there are any missing labels in the training dataset and propose different methods for handling the missing values."
   ]
  },
  {
   "cell_type": "code",
   "execution_count": 14,
   "metadata": {
    "tags": []
   },
   "outputs": [
    {
     "data": {
      "text/plain": [
       "response_id                                  0\n",
       "rating_chooses_appropriate_action           80\n",
       "rating_commits_to_action                     0\n",
       "rating_gathers_information                   0\n",
       "rating_identifies_issues_opportunities      80\n",
       "rating_interprets_information                0\n",
       "rating_involves_others                      85\n",
       "rating_decision_making_final_score           0\n",
       "text_exercise_4                           1281\n",
       "text_exercise_5                           1230\n",
       "text_exercise_6                            424\n",
       "text_exercise_7                            454\n",
       "text_exercise_8                           1275\n",
       "text_exercise_9                            321\n",
       "text_exercise_10                          1243\n",
       "text_exercise_11                           375\n",
       "text_exercise_12                           470\n",
       "text_exercise_13                          1255\n",
       "text_exercise_14                           381\n",
       "text_exercise_15                           373\n",
       "text_exercise_16                          1269\n",
       "text_exercise_17                           589\n",
       "text_exercise_18                          1227\n",
       "text_exercise_19                           113\n",
       "text_exercise_final                        315\n",
       "dtype: int64"
      ]
     },
     "execution_count": 14,
     "metadata": {},
     "output_type": "execute_result"
    }
   ],
   "source": [
    "train_df.isna().sum()"
   ]
  },
  {
   "cell_type": "code",
   "execution_count": 15,
   "metadata": {
    "tags": []
   },
   "outputs": [],
   "source": [
    "missing_label_cols = [\n",
    "    'rating_chooses_appropriate_action',\n",
    "    'rating_identifies_issues_opportunities',\n",
    "    'rating_involves_others',\n",
    "]\n",
    "\n",
    "available_missing_label_approaches = [\n",
    "    'drop',\n",
    "    'mean'\n",
    "]\n",
    "missing_label_approach = available_missing_label_approaches[0]"
   ]
  },
  {
   "cell_type": "code",
   "execution_count": 16,
   "metadata": {
    "tags": []
   },
   "outputs": [],
   "source": [
    "if missing_label_approach == 'drop':\n",
    "    train_df = train_df.dropna(subset=train_df.columns[1:8])\n",
    "elif missing_label_approach == 'mean':\n",
    "    mean_values = {\n",
    "        l: train_df[l].mean() for l in missing_label_cols\n",
    "    }\n",
    "    train_df = train_df.fillna(value=mean_values)"
   ]
  },
  {
   "cell_type": "code",
   "execution_count": 17,
   "metadata": {},
   "outputs": [],
   "source": [
    "label_columns = [\n",
    "    'rating_chooses_appropriate_action',\n",
    "    'rating_commits_to_action',\n",
    "    'rating_gathers_information',\n",
    "    'rating_identifies_issues_opportunities',\n",
    "    'rating_interprets_information',\n",
    "    'rating_involves_others',\n",
    "    'rating_decision_making_final_score'\n",
    "]\n",
    "\n",
    "rating_weight = (1-0.4)/(len(label_columns)-1)\n",
    "rating_weight\n",
    "output_weights = [rating_weight]*(len(label_columns)-1) + [0.4]"
   ]
  },
  {
   "cell_type": "markdown",
   "metadata": {},
   "source": [
    "## Concatenating All Exercise Responses (excluding final)"
   ]
  },
  {
   "cell_type": "markdown",
   "metadata": {},
   "source": [
    "We observe the values of column 'text_exercise_final' are not quite informative. Therefore, we remove column 'text_exercise_final' and do not include it in the input data."
   ]
  },
  {
   "cell_type": "code",
   "execution_count": 18,
   "metadata": {},
   "outputs": [],
   "source": [
    "pd.set_option('display.max_colwidth', None)"
   ]
  },
  {
   "cell_type": "code",
   "execution_count": 19,
   "metadata": {
    "tags": []
   },
   "outputs": [
    {
     "data": {
      "text/plain": [
       "0    See below for answers.Original Message----- From: Assessment Administrator Sent: 4/5/2016 2:20 PM To: Stevens, Cary Cc: Subject : RESPONSE REQUIRED: About your day This e-mail contains some final questions for you. Your answers to these questions will help in the evaluation of your performance by providing a better understanding of your approach and rationale. It is important that you provide complete and thorough answers to the questions below.  For your reference, a list of messages you received today is shown after question 4.  1. Please list the major categories of issues or problems facing Customer Service Team 5 of Soundproof Solutions. Why is each an issue or a problem? Qualty problems with the paint at the hospital and how the call was handeled, there was also issues with peeling issues as well. This is an issue because it could lead to lost sales Mutual Respect issues between collegues as evident by the Elatu lunch incident and Jess' s animosity towards Chris's promotion. This could lead to a bad working environment and loss of efficency Customer Service issues from the transcripts of how the calls were handeled especially Jess' and the Hosptial (3 represenatives), this could lead to a loss of customers as well. Entreprenneuril Culture I felt too many times, especially in the scheduling, my coordiantors could not make a decision and needed my input, which I tried to do, but it tooka large amount of my time. This is time consuming and could stifle growth and development  2. What were the three most important messages you considered the highest priorities to handle? Why? 1. Customer/Quality (Hospital call))Issues because without satisfied customers you will fail 2. Employee Issues (Jess)because you are onl as strong as your people 3. The meeting with Cyd because we need to make sure we have a good communication with the other orgs.  3. List specific examples (if any) of instances where you detected a relationship between two of the messages you received in your inbox. For example, when you decided how respond to one message, did you consider information provided not only in that message, but in other message(s)? Please note when assesing the emails you will find a link between responses to emails that corespond to the relationship between different messages. When I was scheduling Alex's and Taylor's and Pat's customer priorities. When there was a performance discussion with Jess and the issues Cyd had I felt it could be a situation that helped resolve toproblems Evertime Ireceived a meeting request to schedule When there was a problem with Elatu's lunch and inappropraite discussions around customers from some of the reps. The bad calls received from Jess and the bad calls received from the three different reps during the Hospital incident 4. Describe what additional information you would have liked to have in order to have a better or clearer understanding of the messages and challenges presented to you today. I would habve liked more background information and heard both sides of the storiesbecause it wopuld have aided in the decision making process. The messages you received today included:  Weedler Contracting: A customer is suspected of abusing the companys replacement policies  Eluto Caplanu: Someone has placed an insulting message on Elutos lunch  Effective mentoring pays dividends: Taylor mentored Jerry Winters and presents the results  Customer satisfaction insights: Tracy Hurdle reports research on customer satisfaction  Promotion: There is new room in the budget to promote a part-time employee to full-time  Professional conduct: A salesperson complains that representatives behave unprofessionally  Theft of company-confidential information: A security guard suspects an associate of improper activity  Bench strength: Representatives must be signed up for training per company policy  quietPAPER ONE: A new product is faulty and will start to produce complaints in two weeks  Paperless office: A plan is presented to replace paper files  Installation in Sales: Sales requests scheduling soundproofing for their area, and a meeting with a customer  Feedback process: Kim proposes a way to efficiently deal with customer feedback  Fletcher Systems: An unhappy customer demands reinstallation and a meeting\n",
       "1                                                                                                                                                                                                                                                                                                                                                                                                                                                                                                                   Original Message----- From: Assessment Administrator Sent: 4/5/2016 2:20 PM To: Stevens, Cary Cc: Subject : RESPONSE REQUIRED: About your day This e-mail contains some final questions for you. Your answers to these questions will help in the evaluation of your performance by providing a better understanding of your approach and rationale. It is important that you provide complete and thorough answers to the questions below.  For your reference, a list of messages you received today is shown after question 4.  1. Please list the major categories of issues or problems facing Customer Service Team 5 of Soundproof Solutions. Why is each an issue or a problem? 1. the lack of communication between installation and service representation. It seems no one really knowswhat is happening in the field. 2. the lack of a consistent approach to the customer interface. All of the people that work for this company should know what isthe message for customers and the chain of decision making with dealing with them. 3 The lack of corporate culturethat drives home the point of integrity in the workplace and respectfor others 2. What were the three most important messages you considered the highest priorities to handle? Why? 1 Customer relations starts with a consistent, fair message to the customer. Customers are wary of any institution that does not do what it says and changes what it says. The message should be the same right to the person installing the product. 2 Communication. The communication channels and the ability of the company to knowwhat activity is beingdone outside is lacking. This has been causingdifficulty in billing and scheduling, and customer relations. 3 Our leaders are notproviding strong guidance to ourinstallers and representatives for the soft skills. The technicalknow how is there and is strived for and rewarded, however thelack of professionalism in dealing with each other and customers is causing problems. 3. List specific examples (if any) of instances where you detected a relationship between two of the messages you received in your inbox. For example, when you decided how respond to one message, did you consider information provided not only in that message, but in other message(s)?Yes for promotions, for the memorial hospital issue, for the superior bottling issue and the Cyd Atkins discussion  4. Describe what additional information you would have liked to have in order to have a better or clearer understanding of the messages and challenges presented to you today. Actual notes from the previous leader as opposed to the spreadsheet. the employee competencies.  The messages you received today included:  Weedler Contracting: A customer is suspected of abusing the companys replacement policies  Eluto Caplanu: Someone has placed an insulting message on Elutos lunch  Effective mentoring pays dividends: Taylor mentored Jerry Winters and presents the results  Customer satisfaction insights: Tracy Hurdle reports research on customer satisfaction  Promotion: There is new room in the budget to promote a part-time employee to full-time  Professional conduct: A salesperson complains that representatives behave unprofessionally  Theft of company-confidential information: A security guard suspects an associate of improper activity  Bench strength: Representatives must be signed up for training per company policy  quietPAPER ONE: A new product is faulty and will start to produce complaints in two weeks  Paperless office: A plan is presented to replace paper files  Installation in Sales: Sales requests scheduling soundproofing for their area, and a meeting with a customer  Feedback process: Kim proposes a way to efficiently deal with customer feedback  Fletcher Systems: An unhappy customer demands reinstallation and a meeting\n",
       "Name: text_exercise_final, dtype: object"
      ]
     },
     "execution_count": 19,
     "metadata": {},
     "output_type": "execute_result"
    }
   ],
   "source": [
    "train_df['text_exercise_final'].head(2)"
   ]
  },
  {
   "cell_type": "code",
   "execution_count": 20,
   "metadata": {},
   "outputs": [],
   "source": [
    "pd.set_option('display.max_colwidth', 50)"
   ]
  },
  {
   "cell_type": "code",
   "execution_count": 21,
   "metadata": {
    "tags": []
   },
   "outputs": [],
   "source": [
    "train_df.iloc[:,8:] = train_df.iloc[:,8:].fillna('')\n",
    "dev_df.iloc[:,8:] = dev_df.iloc[:,8:].fillna('')\n",
    "test_df.iloc[:,8:] = test_df.iloc[:,8:].fillna('')"
   ]
  },
  {
   "cell_type": "code",
   "execution_count": 22,
   "metadata": {
    "tags": []
   },
   "outputs": [],
   "source": [
    "train_df['text_exercise_concat'] = train_df[train_df.columns[8]]\n",
    "for i in range(9, len(train_df.columns)-1):\n",
    "    train_df['text_exercise_concat'] += train_df[train_df.columns[i]]"
   ]
  },
  {
   "cell_type": "code",
   "execution_count": 23,
   "metadata": {
    "tags": []
   },
   "outputs": [],
   "source": [
    "dev_df['text_exercise_concat'] = dev_df[dev_df.columns[8]]\n",
    "for i in range(9, len(dev_df.columns)-1):\n",
    "    dev_df['text_exercise_concat'] += dev_df[dev_df.columns[i]]"
   ]
  },
  {
   "cell_type": "code",
   "execution_count": 24,
   "metadata": {
    "tags": []
   },
   "outputs": [],
   "source": [
    "test_df['text_exercise_concat'] = test_df[test_df.columns[8]]\n",
    "for i in range(9, len(test_df.columns)-1):\n",
    "    test_df['text_exercise_concat'] += test_df[test_df.columns[i]]"
   ]
  },
  {
   "cell_type": "code",
   "execution_count": 25,
   "metadata": {
    "tags": []
   },
   "outputs": [
    {
     "data": {
      "text/plain": [
       "count    1381.000000\n",
       "mean     1123.740768\n",
       "std       500.314925\n",
       "min       126.000000\n",
       "25%       792.000000\n",
       "50%      1107.000000\n",
       "75%      1417.000000\n",
       "max      4030.000000\n",
       "Name: text_exercise_concat, dtype: float64"
      ]
     },
     "execution_count": 25,
     "metadata": {},
     "output_type": "execute_result"
    }
   ],
   "source": [
    "# descriptives on text length per subject\n",
    "train_df['text_exercise_concat'].apply(lambda x: len(x.split(' '))).describe()"
   ]
  },
  {
   "cell_type": "markdown",
   "metadata": {},
   "source": [
    "# Fine-tune A Regression Model using the Labeled Dataset"
   ]
  },
  {
   "cell_type": "code",
   "execution_count": 26,
   "metadata": {
    "tags": []
   },
   "outputs": [],
   "source": [
    "class RegressionTrainer(Trainer):\n",
    "    def compute_loss(self, model, inputs, return_outputs=False):\n",
    "        labels = inputs.pop(\"labels\")\n",
    "        outputs = model(**inputs)\n",
    "        logits = outputs[0]\n",
    "        loss = torch.nn.functional.mse_loss(logits, labels)\n",
    "        return (loss, outputs) if return_outputs else loss\n",
    "\n",
    "\n",
    "class DecisionMakingDataset(torch.utils.data.Dataset):\n",
    "    def __init__(self, encodings, labels):\n",
    "        self.encodings = encodings\n",
    "        self.labels = labels\n",
    "\n",
    "    def __getitem__(self, idx):\n",
    "        item = {key: torch.tensor(val[idx]) for key, val in self.encodings.items()}\n",
    "        item['labels'] = torch.tensor(self.labels[idx])\n",
    "        return item\n",
    "\n",
    "    def __len__(self):\n",
    "        return len(self.labels)\n",
    "\n",
    "\n",
    "def compute_metrics_for_regression(eval_pred):\n",
    "    logits, labels = eval_pred\n",
    "\n",
    "    mse = mean_squared_error(labels, logits, multioutput=output_weights)\n",
    "    mae = mean_absolute_error(labels, logits, multioutput=output_weights)\n",
    "    r2 = r2_score(labels, logits, multioutput=output_weights)\n",
    "\n",
    "    weighted_r = [output_weights[i]*pearsonr(np.squeeze(np.asarray(labels[:, i])), np.squeeze(np.asarray(logits[:, i]))).statistic \n",
    "                  for i in range(labels.shape[1])]\n",
    "    weighted_r = sum(weighted_r)\n",
    "    r = [pearsonr(np.squeeze(np.asarray(labels[:, i])), np.squeeze(np.asarray(logits[:, i]))).statistic for i in range(labels.shape[1])]\n",
    "    r = sum(r) / len(r)\n",
    "\n",
    "    return {\"mse\": mse, \"mae\": mae, \"r2_adj\": r2, \"r\": r, \"weighted_r\": weighted_r}\n"
   ]
  },
  {
   "cell_type": "markdown",
   "metadata": {
    "tags": []
   },
   "source": [
    "## Tokenizer and Model"
   ]
  },
  {
   "cell_type": "code",
   "execution_count": 27,
   "metadata": {
    "tags": []
   },
   "outputs": [],
   "source": [
    "date_str = '14Apr2023'\n",
    "MODEL_NAME = \"kiddothe2b/adhoc-hierarchical-transformer-base-4096\"\n",
    "LEARNING_RATE = 1e-5\n",
    "WEIGHT_DECAY = 0.15\n",
    "MAX_LENGTH = 4096\n",
    "BATCH_SIZE = 2\n",
    "EPOCHS = 10"
   ]
  },
  {
   "cell_type": "code",
   "execution_count": 28,
   "metadata": {
    "tags": []
   },
   "outputs": [
    {
     "name": "stderr",
     "output_type": "stream",
     "text": [
      "Explicitly passing a `revision` is encouraged when loading a model with custom code to ensure no malicious code has been contributed in a newer revision.\n",
      "Explicitly passing a `revision` is encouraged when loading a configuration with custom code to ensure no malicious code has been contributed in a newer revision.\n",
      "Explicitly passing a `revision` is encouraged when loading a model with custom code to ensure no malicious code has been contributed in a newer revision.\n",
      "Some weights of the model checkpoint at kiddothe2b/adhoc-hierarchical-transformer-base-4096 were not used when initializing HATForSequenceClassification: ['lm_head.dense.bias', 'lm_head.dense.weight', 'lm_head.bias', 'lm_head.decoder.bias', 'lm_head.layer_norm.weight', 'lm_head.decoder.weight', 'lm_head.layer_norm.bias']\n",
      "- This IS expected if you are initializing HATForSequenceClassification from the checkpoint of a model trained on another task or with another architecture (e.g. initializing a BertForSequenceClassification model from a BertForPreTraining model).\n",
      "- This IS NOT expected if you are initializing HATForSequenceClassification from the checkpoint of a model that you expect to be exactly identical (initializing a BertForSequenceClassification model from a BertForSequenceClassification model).\n",
      "Some weights of HATForSequenceClassification were not initialized from the model checkpoint at kiddothe2b/adhoc-hierarchical-transformer-base-4096 and are newly initialized: ['classifier.bias', 'pooler.dense.weight', 'classifier.weight', 'pooler.dense.bias']\n",
      "You should probably TRAIN this model on a down-stream task to be able to use it for predictions and inference.\n"
     ]
    }
   ],
   "source": [
    "tokenizer = AutoTokenizer.from_pretrained(\n",
    "    MODEL_NAME, \n",
    "    trust_remote_code=True\n",
    ")\n",
    "\n",
    "model = AutoModelForSequenceClassification.from_pretrained(\n",
    "    MODEL_NAME, \n",
    "    num_labels=len(label_columns),\n",
    "    trust_remote_code=True\n",
    ")"
   ]
  },
  {
   "cell_type": "code",
   "execution_count": 29,
   "metadata": {
    "tags": []
   },
   "outputs": [],
   "source": [
    "%%capture\n",
    "device = torch.device(\"cuda\" if torch.cuda.is_available() else \"cpu\")\n",
    "model.to(device)"
   ]
  },
  {
   "cell_type": "markdown",
   "metadata": {},
   "source": [
    "## Splitting the labeled dataset into 3 sets: train, validation, and test; Normalizing the labels"
   ]
  },
  {
   "cell_type": "code",
   "execution_count": 30,
   "metadata": {
    "tags": []
   },
   "outputs": [],
   "source": [
    "train_texts, val_texts, train_labels, val_labels = train_test_split(train_df['text_exercise_concat'],\n",
    "                                                                    train_df[label_columns],\n",
    "                                                                    test_size=.2, \n",
    "                                                                    random_state=1234)\n",
    "\n",
    "train_texts = [str(i) for i in train_texts]\n",
    "val_texts = [str(i) for i in val_texts]\n",
    "\n",
    "for col in label_columns:\n",
    "    maximum = train_labels[col].max() - 1\n",
    "    train_labels[col] = train_labels[col].apply(float)\n",
    "    train_labels[col] = (train_labels[col] - 1) / maximum\n",
    "    train_labels[col] = train_labels[col] * 3 + 1\n",
    "    val_labels[col] = val_labels[col].apply(float)\n",
    "    val_labels[col] = (val_labels[col] - 1) / maximum\n",
    "    val_labels[col] = val_labels[col] * 3 + 1\n",
    "\n",
    "train_labels = train_labels.values.tolist()\n",
    "val_labels = val_labels.values.tolist()"
   ]
  },
  {
   "cell_type": "markdown",
   "metadata": {},
   "source": [
    "## Formatting the different datasets into the right format for the model"
   ]
  },
  {
   "cell_type": "code",
   "execution_count": 31,
   "metadata": {
    "tags": []
   },
   "outputs": [
    {
     "name": "stderr",
     "output_type": "stream",
     "text": [
      "/opt/conda/lib/python3.9/site-packages/transformers/tokenization_utils_base.py:2372: UserWarning: `max_length` is ignored when `padding`=`True` and there is no truncation strategy. To pad to max length, use `padding='max_length'`.\n",
      "  warnings.warn(\n"
     ]
    }
   ],
   "source": [
    "train_encodings = tokenizer(train_texts, padding=True, max_length=MAX_LENGTH, truncation=True)\n",
    "val_encodings = tokenizer(val_texts, padding=True, max_length=MAX_LENGTH, truncation=True)\n",
    "\n",
    "train_dataset = DecisionMakingDataset(train_encodings, train_labels)\n",
    "val_dataset = DecisionMakingDataset(val_encodings, val_labels)"
   ]
  },
  {
   "cell_type": "markdown",
   "metadata": {},
   "source": [
    "## Training loop"
   ]
  },
  {
   "cell_type": "code",
   "execution_count": 32,
   "metadata": {
    "tags": []
   },
   "outputs": [],
   "source": [
    "training_args = TrainingArguments(\n",
    "    output_dir=f\"../models/{MODEL_NAME}-fine-tuned-regression-{missing_label_approach}-{date_str}\",\n",
    "    learning_rate=LEARNING_RATE,\n",
    "    per_device_train_batch_size=BATCH_SIZE,\n",
    "    per_device_eval_batch_size=BATCH_SIZE,\n",
    "    num_train_epochs=EPOCHS,\n",
    "    evaluation_strategy=\"epoch\",\n",
    "    save_strategy=\"epoch\",\n",
    "    save_total_limit=2,\n",
    "    metric_for_best_model=\"weighted_r\",\n",
    "    load_best_model_at_end=True,\n",
    "    weight_decay=WEIGHT_DECAY,\n",
    "    logging_strategy='epoch',\n",
    ")"
   ]
  },
  {
   "cell_type": "code",
   "execution_count": 33,
   "metadata": {
    "tags": []
   },
   "outputs": [],
   "source": [
    "trainer = RegressionTrainer(\n",
    "    model=model,\n",
    "    args=training_args,\n",
    "    train_dataset=train_dataset,\n",
    "    eval_dataset=val_dataset,\n",
    "    compute_metrics=compute_metrics_for_regression,\n",
    ")"
   ]
  },
  {
   "cell_type": "code",
   "execution_count": 34,
   "metadata": {
    "tags": []
   },
   "outputs": [
    {
     "name": "stdout",
     "output_type": "stream",
     "text": [
      "[2023-04-15 23:15:07.575: W smdistributed/modelparallel/torch/nn/predefined_hooks.py:78] Found unsupported HuggingFace version 4.28.1 for automated tensor parallelism. HuggingFace modules will not be automatically distributed. You can use smp.tp_register_with_module API to register desired modules for tensor parallelism, or directly instantiate an smp.nn.DistributedModule. Supported HuggingFace transformers versions for automated tensor parallelism: ['4.17.0', '4.20.1', '4.21.0']\n"
     ]
    },
    {
     "name": "stderr",
     "output_type": "stream",
     "text": [
      "/opt/conda/lib/python3.9/site-packages/transformers/optimization.py:391: FutureWarning: This implementation of AdamW is deprecated and will be removed in a future version. Use the PyTorch implementation torch.optim.AdamW instead, or set `no_deprecation_warning=True` to disable this warning\n",
      "  warnings.warn(\n",
      "INFO:root:Using NamedTuple = typing._NamedTuple instead.\n"
     ]
    },
    {
     "name": "stdout",
     "output_type": "stream",
     "text": [
      "[2023-04-15 23:15:07.749 pytorch-1-13-gpu--ml-g4dn-12xlarge-3a8071c4fc04fdac814ceb809ccb:20 INFO utils.py:28] RULE_JOB_STOP_SIGNAL_FILENAME: None\n",
      "[2023-04-15 23:15:07.775 pytorch-1-13-gpu--ml-g4dn-12xlarge-3a8071c4fc04fdac814ceb809ccb:20 INFO profiler_config_parser.py:111] Unable to find config at /opt/ml/input/config/profilerconfig.json. Profiler is disabled.\n"
     ]
    },
    {
     "name": "stderr",
     "output_type": "stream",
     "text": [
      "/opt/conda/lib/python3.9/site-packages/transformers/modeling_utils.py:862: FutureWarning: The `device` argument is deprecated and will be removed in v5 of Transformers.\n",
      "  warnings.warn(\n"
     ]
    },
    {
     "data": {
      "text/html": [
       "\n",
       "    <div>\n",
       "      \n",
       "      <progress value='1380' max='1380' style='width:300px; height:20px; vertical-align: middle;'></progress>\n",
       "      [1380/1380 47:04, Epoch 10/10]\n",
       "    </div>\n",
       "    <table border=\"1\" class=\"dataframe\">\n",
       "  <thead>\n",
       " <tr style=\"text-align: left;\">\n",
       "      <th>Epoch</th>\n",
       "      <th>Training Loss</th>\n",
       "      <th>Validation Loss</th>\n",
       "      <th>Mse</th>\n",
       "      <th>Mae</th>\n",
       "      <th>R2 Adj</th>\n",
       "      <th>R</th>\n",
       "      <th>Weighted R</th>\n",
       "    </tr>\n",
       "  </thead>\n",
       "  <tbody>\n",
       "    <tr>\n",
       "      <td>1</td>\n",
       "      <td>0.787700</td>\n",
       "      <td>0.414848</td>\n",
       "      <td>0.419902</td>\n",
       "      <td>0.536476</td>\n",
       "      <td>-0.038848</td>\n",
       "      <td>0.104925</td>\n",
       "      <td>0.144782</td>\n",
       "    </tr>\n",
       "    <tr>\n",
       "      <td>2</td>\n",
       "      <td>0.395000</td>\n",
       "      <td>0.383366</td>\n",
       "      <td>0.386218</td>\n",
       "      <td>0.491555</td>\n",
       "      <td>0.043619</td>\n",
       "      <td>0.243704</td>\n",
       "      <td>0.285168</td>\n",
       "    </tr>\n",
       "    <tr>\n",
       "      <td>3</td>\n",
       "      <td>0.378700</td>\n",
       "      <td>0.392071</td>\n",
       "      <td>0.386419</td>\n",
       "      <td>0.484358</td>\n",
       "      <td>0.035566</td>\n",
       "      <td>0.289752</td>\n",
       "      <td>0.335749</td>\n",
       "    </tr>\n",
       "    <tr>\n",
       "      <td>4</td>\n",
       "      <td>0.365900</td>\n",
       "      <td>0.394594</td>\n",
       "      <td>0.388858</td>\n",
       "      <td>0.475792</td>\n",
       "      <td>0.030759</td>\n",
       "      <td>0.345901</td>\n",
       "      <td>0.398505</td>\n",
       "    </tr>\n",
       "    <tr>\n",
       "      <td>5</td>\n",
       "      <td>0.348900</td>\n",
       "      <td>0.369970</td>\n",
       "      <td>0.352974</td>\n",
       "      <td>0.479130</td>\n",
       "      <td>0.121197</td>\n",
       "      <td>0.367297</td>\n",
       "      <td>0.425080</td>\n",
       "    </tr>\n",
       "    <tr>\n",
       "      <td>6</td>\n",
       "      <td>0.339600</td>\n",
       "      <td>0.393463</td>\n",
       "      <td>0.395977</td>\n",
       "      <td>0.520796</td>\n",
       "      <td>0.018622</td>\n",
       "      <td>0.352278</td>\n",
       "      <td>0.417923</td>\n",
       "    </tr>\n",
       "    <tr>\n",
       "      <td>7</td>\n",
       "      <td>0.320500</td>\n",
       "      <td>0.362787</td>\n",
       "      <td>0.347950</td>\n",
       "      <td>0.479202</td>\n",
       "      <td>0.135072</td>\n",
       "      <td>0.393831</td>\n",
       "      <td>0.455602</td>\n",
       "    </tr>\n",
       "    <tr>\n",
       "      <td>8</td>\n",
       "      <td>0.306700</td>\n",
       "      <td>0.354186</td>\n",
       "      <td>0.338645</td>\n",
       "      <td>0.469978</td>\n",
       "      <td>0.158480</td>\n",
       "      <td>0.404428</td>\n",
       "      <td>0.462478</td>\n",
       "    </tr>\n",
       "    <tr>\n",
       "      <td>9</td>\n",
       "      <td>0.299500</td>\n",
       "      <td>0.355400</td>\n",
       "      <td>0.339425</td>\n",
       "      <td>0.469700</td>\n",
       "      <td>0.156410</td>\n",
       "      <td>0.412817</td>\n",
       "      <td>0.469161</td>\n",
       "    </tr>\n",
       "    <tr>\n",
       "      <td>10</td>\n",
       "      <td>0.288200</td>\n",
       "      <td>0.364656</td>\n",
       "      <td>0.354519</td>\n",
       "      <td>0.484679</td>\n",
       "      <td>0.120118</td>\n",
       "      <td>0.411423</td>\n",
       "      <td>0.467321</td>\n",
       "    </tr>\n",
       "  </tbody>\n",
       "</table><p>"
      ],
      "text/plain": [
       "<IPython.core.display.HTML object>"
      ]
     },
     "metadata": {},
     "output_type": "display_data"
    },
    {
     "name": "stderr",
     "output_type": "stream",
     "text": [
      "/opt/conda/lib/python3.9/site-packages/transformers/modeling_utils.py:862: FutureWarning: The `device` argument is deprecated and will be removed in v5 of Transformers.\n",
      "  warnings.warn(\n",
      "/opt/conda/lib/python3.9/site-packages/transformers/modeling_utils.py:862: FutureWarning: The `device` argument is deprecated and will be removed in v5 of Transformers.\n",
      "  warnings.warn(\n",
      "/opt/conda/lib/python3.9/site-packages/transformers/modeling_utils.py:862: FutureWarning: The `device` argument is deprecated and will be removed in v5 of Transformers.\n",
      "  warnings.warn(\n",
      "/opt/conda/lib/python3.9/site-packages/transformers/modeling_utils.py:862: FutureWarning: The `device` argument is deprecated and will be removed in v5 of Transformers.\n",
      "  warnings.warn(\n",
      "/opt/conda/lib/python3.9/site-packages/transformers/modeling_utils.py:862: FutureWarning: The `device` argument is deprecated and will be removed in v5 of Transformers.\n",
      "  warnings.warn(\n",
      "/opt/conda/lib/python3.9/site-packages/transformers/modeling_utils.py:862: FutureWarning: The `device` argument is deprecated and will be removed in v5 of Transformers.\n",
      "  warnings.warn(\n",
      "/opt/conda/lib/python3.9/site-packages/transformers/modeling_utils.py:862: FutureWarning: The `device` argument is deprecated and will be removed in v5 of Transformers.\n",
      "  warnings.warn(\n",
      "/opt/conda/lib/python3.9/site-packages/transformers/modeling_utils.py:862: FutureWarning: The `device` argument is deprecated and will be removed in v5 of Transformers.\n",
      "  warnings.warn(\n",
      "/opt/conda/lib/python3.9/site-packages/transformers/modeling_utils.py:862: FutureWarning: The `device` argument is deprecated and will be removed in v5 of Transformers.\n",
      "  warnings.warn(\n"
     ]
    },
    {
     "data": {
      "text/plain": [
       "TrainOutput(global_step=1380, training_loss=0.3830705974413001, metrics={'train_runtime': 2833.4353, 'train_samples_per_second': 3.896, 'train_steps_per_second': 0.487, 'total_flos': 3.093131013783552e+16, 'train_loss': 0.3830705974413001, 'epoch': 10.0})"
      ]
     },
     "execution_count": 34,
     "metadata": {},
     "output_type": "execute_result"
    }
   ],
   "source": [
    "trainer.train()"
   ]
  },
  {
   "cell_type": "code",
   "execution_count": 35,
   "metadata": {
    "tags": []
   },
   "outputs": [
    {
     "name": "stderr",
     "output_type": "stream",
     "text": [
      "/opt/conda/lib/python3.9/site-packages/transformers/modeling_utils.py:862: FutureWarning: The `device` argument is deprecated and will be removed in v5 of Transformers.\n",
      "  warnings.warn(\n"
     ]
    },
    {
     "data": {
      "text/html": [
       "\n",
       "    <div>\n",
       "      \n",
       "      <progress value='35' max='35' style='width:300px; height:20px; vertical-align: middle;'></progress>\n",
       "      [35/35 00:24]\n",
       "    </div>\n",
       "    "
      ],
      "text/plain": [
       "<IPython.core.display.HTML object>"
      ]
     },
     "metadata": {},
     "output_type": "display_data"
    },
    {
     "data": {
      "text/plain": [
       "{'eval_loss': 0.3554004430770874,\n",
       " 'eval_mse': 0.3394253581762314,\n",
       " 'eval_mae': 0.46970003843307495,\n",
       " 'eval_r2_adj': 0.15641019337954654,\n",
       " 'eval_r': 0.4128167159641482,\n",
       " 'eval_weighted_r': 0.46916079769908736,\n",
       " 'eval_runtime': 25.2247,\n",
       " 'eval_samples_per_second': 10.981,\n",
       " 'eval_steps_per_second': 1.388,\n",
       " 'epoch': 10.0}"
      ]
     },
     "execution_count": 35,
     "metadata": {},
     "output_type": "execute_result"
    }
   ],
   "source": [
    "trainer.evaluate()"
   ]
  },
  {
   "cell_type": "markdown",
   "metadata": {},
   "source": [
    "## Error Analysis and Model Evaluation"
   ]
  },
  {
   "cell_type": "code",
   "execution_count": 36,
   "metadata": {
    "tags": []
   },
   "outputs": [],
   "source": [
    "os.makedirs(f'./output/{date_str}')"
   ]
  },
  {
   "cell_type": "code",
   "execution_count": 37,
   "metadata": {
    "tags": []
   },
   "outputs": [
    {
     "name": "stderr",
     "output_type": "stream",
     "text": [
      "/opt/conda/lib/python3.9/site-packages/transformers/tokenization_utils_base.py:2372: UserWarning: `max_length` is ignored when `padding`=`True` and there is no truncation strategy. To pad to max length, use `padding='max_length'`.\n",
      "  warnings.warn(\n",
      "/opt/conda/lib/python3.9/site-packages/transformers/modeling_utils.py:862: FutureWarning: The `device` argument is deprecated and will be removed in v5 of Transformers.\n",
      "  warnings.warn(\n"
     ]
    }
   ],
   "source": [
    "nb_batches = math.ceil(len(val_texts)/BATCH_SIZE)\n",
    "y_preds = []\n",
    "\n",
    "for i in range(nb_batches):\n",
    "    input_texts = val_texts[i * BATCH_SIZE: (i+1) * BATCH_SIZE]\n",
    "    input_labels = val_labels[i * BATCH_SIZE: (i+1) * BATCH_SIZE]\n",
    "    encoded = tokenizer(input_texts, padding=True, max_length=MAX_LENGTH, truncation=True, return_tensors=\"pt\")\n",
    "    encoded = {key: torch.tensor(val).to(device) for key, val in encoded.items()}\n",
    "    y_preds += model(**encoded).logits.tolist()\n",
    "\n",
    "pd.set_option('display.max_rows', 500)\n",
    "df = pd.DataFrame([val_texts, val_labels, y_preds], [\"Text\", \"Score\", \"Prediction\"]).T\n",
    "df[\"Rounded Prediction\"] = df[\"Prediction\"].apply(np.round)\n",
    "\n",
    "df.to_csv(f'output/{date_str}/{MODEL_NAME[-4:]}-train-{missing_label_approach}-{date_str}.csv')\n",
    "\n",
    "# incorrect_cases = df[(df[\"Score\"] != df[\"Rounded Prediction\"]) & (df[\"Text\"] != \"nan\")]\n",
    "# incorrect_cases.shape"
   ]
  },
  {
   "cell_type": "markdown",
   "metadata": {},
   "source": [
    "# Predictions on the Dev Set"
   ]
  },
  {
   "cell_type": "code",
   "execution_count": 38,
   "metadata": {
    "tags": []
   },
   "outputs": [
    {
     "name": "stderr",
     "output_type": "stream",
     "text": [
      "/opt/conda/lib/python3.9/site-packages/transformers/tokenization_utils_base.py:2372: UserWarning: `max_length` is ignored when `padding`=`True` and there is no truncation strategy. To pad to max length, use `padding='max_length'`.\n",
      "  warnings.warn(\n",
      "/opt/conda/lib/python3.9/site-packages/transformers/modeling_utils.py:862: FutureWarning: The `device` argument is deprecated and will be removed in v5 of Transformers.\n",
      "  warnings.warn(\n"
     ]
    }
   ],
   "source": [
    "dev_texts = list(dev_df['text_exercise_concat'].values)\n",
    "dev_labels = list(dev_df['rating_decision_making_final_score'].values)\n",
    "\n",
    "nb_batches = math.ceil(len(dev_texts)/BATCH_SIZE)\n",
    "y_preds = []\n",
    "\n",
    "for i in range(nb_batches):\n",
    "    input_texts = dev_texts[i * BATCH_SIZE: (i+1) * BATCH_SIZE]\n",
    "    input_labels = dev_labels[i * BATCH_SIZE: (i+1) * BATCH_SIZE]\n",
    "    encoded = tokenizer(input_texts, padding=True, max_length=MAX_LENGTH, truncation=True, return_tensors=\"pt\")\n",
    "    encoded = {key: torch.tensor(val).to(device) for key, val in encoded.items()}\n",
    "    y_preds += model(**encoded).logits.tolist()\n",
    "\n",
    "pd.set_option('display.max_rows', 500)\n",
    "df = pd.DataFrame([dev_texts, y_preds], [\"Text\", \"Prediction\"]).T\n",
    "df[\"Rounded Prediction\"] = df[\"Prediction\"].apply(np.round)\n",
    "\n",
    "df.to_csv(f'output/{date_str}/{MODEL_NAME[-4:]}-dev-{missing_label_approach}-{date_str}.csv')"
   ]
  },
  {
   "cell_type": "markdown",
   "metadata": {},
   "source": [
    "# Predictions on the Test Set"
   ]
  },
  {
   "cell_type": "code",
   "execution_count": 39,
   "metadata": {
    "tags": []
   },
   "outputs": [
    {
     "name": "stderr",
     "output_type": "stream",
     "text": [
      "/opt/conda/lib/python3.9/site-packages/transformers/tokenization_utils_base.py:2372: UserWarning: `max_length` is ignored when `padding`=`True` and there is no truncation strategy. To pad to max length, use `padding='max_length'`.\n",
      "  warnings.warn(\n",
      "/opt/conda/lib/python3.9/site-packages/transformers/modeling_utils.py:862: FutureWarning: The `device` argument is deprecated and will be removed in v5 of Transformers.\n",
      "  warnings.warn(\n"
     ]
    }
   ],
   "source": [
    "test_texts = list(test_df['text_exercise_concat'].values)\n",
    "test_labels = list(test_df['rating_decision_making_final_score'].values)\n",
    "\n",
    "nb_batches = math.ceil(len(test_texts)/BATCH_SIZE)\n",
    "y_preds = []\n",
    "\n",
    "for i in range(nb_batches):\n",
    "    input_texts = test_texts[i * BATCH_SIZE: (i+1) * BATCH_SIZE]\n",
    "    input_labels = test_labels[i * BATCH_SIZE: (i+1) * BATCH_SIZE]\n",
    "    encoded = tokenizer(input_texts, padding=True, max_length=MAX_LENGTH, truncation=True, return_tensors=\"pt\")\n",
    "    encoded = {key: torch.tensor(val).to(device) for key, val in encoded.items()}\n",
    "    y_preds += model(**encoded).logits.tolist()\n",
    "\n",
    "pd.set_option('display.max_rows', 500)\n",
    "df = pd.DataFrame([test_texts, y_preds], [\"Text\", \"Prediction\"]).T\n",
    "df[\"Rounded Prediction\"] = df[\"Prediction\"].apply(np.round)\n",
    "\n",
    "df.to_csv(f'output/{date_str}/{MODEL_NAME[-4:]}-test-{missing_label_approach}-{date_str}.csv')"
   ]
  },
  {
   "cell_type": "markdown",
   "metadata": {
    "tags": []
   },
   "source": [
    "# Prepare the output files in the required format"
   ]
  },
  {
   "cell_type": "code",
   "execution_count": 40,
   "metadata": {},
   "outputs": [],
   "source": [
    "input_dir = f'./output/{date_str}/' # directory that stores result files\n",
    "input_filename = f'4096-test-drop-{date_str}.csv' # file name\n",
    "output_suffix = 'test_drop' # output file suffix\n",
    "prediction_type = 'Prediction'\n",
    "\n",
    "df = test_df[['response_id', 'text_exercise_concat']] # test or dev"
   ]
  },
  {
   "cell_type": "code",
   "execution_count": 41,
   "metadata": {},
   "outputs": [],
   "source": [
    "results = pd.read_csv(input_dir + input_filename).drop('Unnamed: 0', axis=1)\n",
    "results = df.merge(results, left_on='text_exercise_concat', right_on='Text').drop('text_exercise_concat', axis=1)"
   ]
  },
  {
   "cell_type": "code",
   "execution_count": 42,
   "metadata": {},
   "outputs": [],
   "source": [
    "%%capture\n",
    "df[['rating_chooses_appropriate_action',\n",
    "    'rating_commits_to_action',\n",
    "    'rating_gathers_information',\n",
    "    'rating_identifies_issues_opportunities',\n",
    "    'rating_interprets_information',\n",
    "    'rating_involves_others',\n",
    "    'rating_decision_making_final_score']] = pd.DataFrame(results[prediction_type].apply(lambda x: \n",
    "                         \n",
    "                                                                                         [float(pred) for pred in x[1:-1].split(', ')]).tolist())\n",
    "df = df.drop('text_exercise_concat', axis=1, inplace=False)"
   ]
  },
  {
   "cell_type": "code",
   "execution_count": 43,
   "metadata": {},
   "outputs": [],
   "source": [
    "# scale final score back to 1-7\n",
    "df['rating_decision_making_final_score'] = ((df['rating_decision_making_final_score'] - 1) / 3 * 6) + 1"
   ]
  },
  {
   "cell_type": "code",
   "execution_count": 44,
   "metadata": {},
   "outputs": [],
   "source": [
    "df_rounded = round(df)"
   ]
  },
  {
   "cell_type": "code",
   "execution_count": 45,
   "metadata": {
    "tags": []
   },
   "outputs": [],
   "source": [
    "df.to_csv(input_dir + 'processed_predictions_' + output_suffix + '.csv', index=False)\n",
    "df_rounded.to_csv(input_dir + 'processed_predictions_rounded_' + output_suffix + '.csv', index=False)"
   ]
  },
  {
   "cell_type": "code",
   "execution_count": null,
   "metadata": {},
   "outputs": [],
   "source": []
  }
 ],
 "metadata": {
  "instance_type": "ml.g4dn.12xlarge",
  "kernelspec": {
   "display_name": "Python 3 (PyTorch 1.13 Python 3.9 GPU Optimized)",
   "language": "python",
   "name": "python3__SAGEMAKER_INTERNAL__arn:aws:sagemaker:us-west-2:236514542706:image/pytorch-1.13-gpu-py39"
  },
  "language_info": {
   "codemirror_mode": {
    "name": "ipython",
    "version": 3
   },
   "file_extension": ".py",
   "mimetype": "text/x-python",
   "name": "python",
   "nbconvert_exporter": "python",
   "pygments_lexer": "ipython3",
   "version": "3.9.16"
  },
  "vscode": {
   "interpreter": {
    "hash": "530321263ae4e01ae0f727cb437377da719dab2d50489b755e433d429b606440"
   }
  }
 },
 "nbformat": 4,
 "nbformat_minor": 4
}